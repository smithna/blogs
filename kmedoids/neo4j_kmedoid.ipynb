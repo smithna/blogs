{
 "cells": [
  {
   "cell_type": "code",
   "execution_count": 52,
   "id": "ac6b410c-5754-47e6-bcb3-8b4fc6163ccf",
   "metadata": {},
   "outputs": [],
   "source": [
    "import pandas as pd\n",
    "from graphdatascience import GraphDataScience\n",
    "from getpass import getpass\n",
    "import kmedoids\n",
    "import numpy as np\n",
    "from matplotlib import pyplot as plt"
   ]
  },
  {
   "cell_type": "markdown",
   "id": "5fb6462a-bb85-4178-bb90-7a74dbce4026",
   "metadata": {},
   "source": [
    "# Load data\n",
    "This notebook uses a dataset of Amtrak rail lines in the US. Download the tar file with the database backup from Github. Then [import the tar file to an AuraDS instance](https://neo4j.com/docs/aura/aurads/importing-data/import-db/) or unzip the file and [import the neo4j.dump file into a Neo4j Desktop database](https://neo4j.com/docs/desktop-manual/current/operations/create-from-dump/) that has the GDS plugin enabled."
   ]
  },
  {
   "cell_type": "markdown",
   "id": "5aec0aa1-4520-462d-9777-868c579ba5fc",
   "metadata": {},
   "source": [
    "# Connect to Neo4j"
   ]
  },
  {
   "cell_type": "code",
   "execution_count": 2,
   "id": "82a8144d-b4f0-4e02-8b2f-7dbb0126f4b4",
   "metadata": {},
   "outputs": [
    {
     "name": "stdin",
     "output_type": "stream",
     "text": [
      "Neo4j password ········\n"
     ]
    }
   ],
   "source": [
    "neo4j_pwd = getpass(\"Neo4j password\")"
   ]
  },
  {
   "cell_type": "markdown",
   "id": "762d9d31-c7c5-47e9-800b-38e7d2b9d931",
   "metadata": {},
   "source": [
    "The connection URI for your Neo4j instance is available in the AuraDS console or by copying the Bolt port from the details panel for for your DBMS in Neo4j Desktop."
   ]
  },
  {
   "cell_type": "code",
   "execution_count": null,
   "id": "8f372fcf-efbe-42bb-b8fb-cff1758085d7",
   "metadata": {},
   "outputs": [],
   "source": [
    "connection_uri = \"neo4j+s://79412e05.databases.neo4j.io\""
   ]
  },
  {
   "cell_type": "code",
   "execution_count": 5,
   "id": "90261f4d-174c-4050-af15-cca934eeb5bf",
   "metadata": {},
   "outputs": [],
   "source": [
    "gds = GraphDataScience(connection_uri, auth=(\"neo4j\", neo4j_pwd))"
   ]
  },
  {
   "cell_type": "code",
   "execution_count": 158,
   "id": "96cb2d3f-28e6-431b-a3ca-d73a08a9a6b6",
   "metadata": {},
   "outputs": [],
   "source": [
    "gds.set_database(\"neo4j\")"
   ]
  },
  {
   "cell_type": "markdown",
   "id": "abe471f4-72e8-4ea0-95d9-d43a4cb5d0ad",
   "metadata": {},
   "source": [
    "# Functions for k-medoid analysis"
   ]
  },
  {
   "cell_type": "code",
   "execution_count": 156,
   "id": "ad1cf420-3625-46a6-ae3e-7e9cc1f1e8d1",
   "metadata": {},
   "outputs": [],
   "source": [
    "def find_giant_component(projection, wccProperty, subgraph_name):\n",
    "    # Mutate the graph with wcc id so we can use it for filtering\n",
    "    gds.wcc.mutate(projection, mutateProperty=wccProperty)\n",
    "    # Write the wcc id to the graph so we can use it for filtering in Bloom\n",
    "    gds.graph.nodeProperties.write(projection, wccProperty)\n",
    "    # Get the id of the giant component\n",
    "    wcc_df = gds.graph.nodeProperties.stream(projection, wccProperty)\n",
    "    biggest_component_id = wcc_df['propertyValue'].value_counts().idxmax()\n",
    "    # Filter the projection to the giant component\n",
    "    subgraph, result = gds.graph.filter(subgraph_name,\n",
    "                                projection,\n",
    "                                f\"n.{wccProperty} = {biggest_component_id}\",\n",
    "                                \"*\")\n",
    "    return subgraph, result"
   ]
  },
  {
   "cell_type": "code",
   "execution_count": 90,
   "id": "89638cd3-4c73-46a2-a830-e0370aa7d473",
   "metadata": {},
   "outputs": [],
   "source": [
    "def get_distance_array(projection, \n",
    "                       relationshipWeightProperty=None, \n",
    "                       concurrency=4):\n",
    "    all_pairs = gds.allShortestPaths.stream(projection, \n",
    "                                            relationshipWeightProperty = relationshipWeightProperty, \n",
    "                                            concurrency=concurrency)\n",
    "    distance_df = all_pairs.pivot(index='sourceNodeId', columns='targetNodeId', values='distance')\n",
    "    distance_array = distance_df.fillna(0).values\n",
    "    return distance_array, distance_df.columns"
   ]
  },
  {
   "cell_type": "code",
   "execution_count": 100,
   "id": "b84420e5-6dbe-43fb-a25d-b304ef239d93",
   "metadata": {},
   "outputs": [],
   "source": [
    "def test_values_of_k(k_list, distance_array):\n",
    "    result_df = pd.DataFrame(columns=['k', 'loss', 'silhouette'])\n",
    "    for k in k_list:\n",
    "        km = kmedoids.KMedoids(k, method=\"fasterpam\")\n",
    "        c = km.fit(distance_array)\n",
    "        silhouette, _ = kmedoids.medoid_silhouette(distance_array, \n",
    "                                                   c.medoid_indices_, \n",
    "                                                   False)\n",
    "        result_df.loc[len(result_df.index)] = [k, c.inertia_, silhouette]\n",
    "    result_df.plot.scatter(x='k', y='silhouette')\n",
    "    return result_df"
   ]
  },
  {
   "cell_type": "code",
   "execution_count": 107,
   "id": "b56882ae-bfeb-4b60-a764-65a5387016d0",
   "metadata": {},
   "outputs": [],
   "source": [
    "def write_kmedoid(distance_array,\n",
    "                  array_index,\n",
    "                  k,\n",
    "                  medoid_property_name,\n",
    "                  cluster_property_name):\n",
    "    km = kmedoids.KMedoids(k, method='fasterpam')\n",
    "    c = km.fit(distance_array)\n",
    "    medoid_ids = [array_index[i] for i in c.medoid_indices_]\n",
    "    gds.run_cypher(f\"\"\"\n",
    "                    UNWIND $medoidIds as medoidId\n",
    "                    WITH gds.util.asNode(medoidId) AS medoid\n",
    "                    SET medoid.{medoid_property_name} = True\"\"\",\n",
    "                   {\"medoidIds\": medoid_ids})\n",
    "    gds.run_cypher(f\"\"\"\n",
    "                    UNWIND range(0, size($labels)-1) AS i\n",
    "                    WITH $labels[i] AS label, $nodeIds[i] AS nodeId\n",
    "                    WITH label, gds.util.asNode(nodeId) AS member\n",
    "                    SET member.{cluster_property_name} = label\"\"\",\n",
    "                   {\"labels\": c.labels_, \"nodeIds\": list(array_index)})\n",
    "    return c.medoid_indices_, c.labels_"
   ]
  },
  {
   "cell_type": "code",
   "execution_count": 173,
   "id": "10cadea9-0a54-4ea0-9ad0-524422d53f8b",
   "metadata": {},
   "outputs": [],
   "source": [
    "def create_silhouette_plot(distance_array, labels, medoid_indices):\n",
    "    score, samples = kmedoids.medoid_silhouette(distance_array, medoid_indices, True)\n",
    "    fig, ax = plt.subplots(1,1,figsize=(10,8))\n",
    "    y_ticks = []\n",
    "    y_lower = y_upper = 0\n",
    "    for i,cluster in enumerate(np.unique(labels)):\n",
    "        cluster_silhouette_vals = samples[labels ==cluster]\n",
    "        cluster_silhouette_vals.sort()\n",
    "        y_upper += len(cluster_silhouette_vals)\n",
    "    \n",
    "        ax.barh(range(y_lower,y_upper),\n",
    "                   cluster_silhouette_vals,height =1);\n",
    "        ax.text(-0.03,(y_lower+y_upper)/2,str(i))\n",
    "        y_lower += len(cluster_silhouette_vals)\n",
    "       \n",
    "    # Get the average silhouette score \n",
    "    ax.axvline(score,linestyle ='--',\n",
    "    linewidth =2,color = 'green')\n",
    "    ax.set_yticks([])\n",
    "    ax.set_xlim([-0.1, 1])\n",
    "    ax.set_xlabel('Medoid silhouette values')\n",
    "    ax.set_ylabel('Cluster labels')\n",
    "    ax.set_title('Medoid silhouette plot')"
   ]
  },
  {
   "cell_type": "markdown",
   "id": "ab5284d2-da29-4132-bb23-8149d0ec5adf",
   "metadata": {},
   "source": [
    "# Analyze Amtrak network"
   ]
  },
  {
   "cell_type": "code",
   "execution_count": 153,
   "id": "692014c3-8476-4494-8b8d-0edcef96e717",
   "metadata": {},
   "outputs": [],
   "source": [
    "g_amtrak, result = gds.graph.project(\"amtrak\", \n",
    "                                     \"Station\",\n",
    "                                     {\"CONNECTS_TO\":\n",
    "                                      {\"orientation\": \"UNDIRECTED\",\n",
    "                                       \"properties\":{\"distance\":\"distance\"}\n",
    "                                      }\n",
    "                                     }\n",
    "                                    )"
   ]
  },
  {
   "cell_type": "code",
   "execution_count": 165,
   "id": "cb253458-ca22-4006-bbc7-3fffaf06f126",
   "metadata": {},
   "outputs": [],
   "source": [
    "g_amtrak_connected, result = find_giant_component(g_amtrak, \n",
    "                                                  \"wccId\",\n",
    "                                                  \"amtrak_connected\")"
   ]
  },
  {
   "cell_type": "code",
   "execution_count": 166,
   "id": "c59346c2-a63c-43e4-96b2-6c599f04ce86",
   "metadata": {},
   "outputs": [],
   "source": [
    "amtrak_distance_array, amtrak_index = get_distance_array(g_amtrak_connected,\n",
    "                                                         relationshipWeightProperty=\"distance\",\n",
    "                                                         concurrency=5)"
   ]
  },
  {
   "cell_type": "code",
   "execution_count": 167,
   "id": "ff91966d-e769-405e-b9b6-f3397c980ed2",
   "metadata": {},
   "outputs": [
    {
     "data": {
      "image/png": "[encoded data removed]",
      "text/plain": [
       "<Figure size 640x480 with 1 Axes>"
      ]
     },
     "metadata": {},
     "output_type": "display_data"
    }
   ],
   "source": [
    "amtrak_result_df = test_values_of_k(range(2,16), amtrak_distance_array)"
   ]
  },
  {
   "cell_type": "code",
   "execution_count": 175,
   "id": "eb642ad7-9556-43a3-bad2-58e9585e8ee1",
   "metadata": {},
   "outputs": [
    {
     "name": "stderr",
     "output_type": "stream",
     "text": [
      "Failed to read from defunct connection ResolvedIPv4Address(('34.28.32.244', 7687)) (ResolvedIPv4Address(('34.28.32.244', 7687)))\n",
      "Unable to retrieve routing information\n",
      "Unable to connect to the Neo4j DBMS. Trying again...\n"
     ]
    }
   ],
   "source": [
    "amtrak_medoids, amtrak_labels = write_kmedoid(amtrak_distance_array, \n",
    "                                              amtrak_index, \n",
    "                                              8, \n",
    "                                              \"medoid\", \n",
    "                                              \"partitionId\")"
   ]
  },
  {
   "cell_type": "code",
   "execution_count": 176,
   "id": "ebc5e9d6-7d4e-4db5-b05f-956413259627",
   "metadata": {},
   "outputs": [
    {
     "data": {
      "image/png": "[encoded data removed]",
      "text/plain": [
       "<Figure size 1000x800 with 1 Axes>"
      ]
     },
     "metadata": {},
     "output_type": "display_data"
    }
   ],
   "source": [
    "create_silhouette_plot(amtrak_distance_array, amtrak_labels, amtrak_medoids)"
   ]
  },
  {
   "cell_type": "markdown",
   "id": "cb685390-93ed-41f1-be8c-c85bbc56247c",
   "metadata": {},
   "source": [
    "# Try on genetic network\n",
    "## Download data\n",
    "Data from Cho, Ara and Shin, Junha and Hwang, Sohyun and Kim, Chanyoung and Shim, Hongseok and Kim, Hyojin and Kim, Hanhae and Lee, Insuk (2014). \"WormNet v3: a network-assisted hypothesis-generating server for Caenorhabditis elegans.\" Nucleic acids research, 42(W1), W76-W82.\n",
    "\n",
    "Hosted by [The Network Data Repository with Interactive Graph Analytics and Visualization](https://networkrepository.com)"
   ]
  },
  {
   "cell_type": "code",
   "execution_count": 177,
   "id": "44a364cb-7018-4e1a-98fc-313ce497c9ce",
   "metadata": {},
   "outputs": [],
   "source": [
    "import urllib.request\n",
    "import zipfile"
   ]
  },
  {
   "cell_type": "code",
   "execution_count": 178,
   "id": "905544d7-789c-4c5b-8430-6969e5cb715a",
   "metadata": {},
   "outputs": [],
   "source": [
    "file_name, headers = urllib.request.urlretrieve(\"https://nrvis.com/download/data/bio/bio-CE-LC.zip\", \"bio-CE-LC.zip\")"
   ]
  },
  {
   "cell_type": "code",
   "execution_count": 179,
   "id": "748d6809-45b4-4c7d-9b84-44a04be01798",
   "metadata": {},
   "outputs": [],
   "source": [
    "with zipfile.ZipFile(file_name, 'r') as zip_ref:\n",
    "    zip_ref.extractall('.')"
   ]
  },
  {
   "cell_type": "code",
   "execution_count": 180,
   "id": "e938c765-cba4-4aeb-aea7-e7753830679d",
   "metadata": {},
   "outputs": [],
   "source": [
    "edge_df = pd.read_csv('bio-CE-LC.edges', sep=' ', header=None)\n",
    "edge_list = edge_df.values.tolist()"
   ]
  },
  {
   "cell_type": "markdown",
   "id": "d3b6cacb-37cf-4cd0-acb5-549098acb90c",
   "metadata": {},
   "source": [
    "## Send data to Neo4j"
   ]
  },
  {
   "cell_type": "code",
   "execution_count": 181,
   "id": "526aba6d-f9b2-404b-9f5e-6286a25435ba",
   "metadata": {},
   "outputs": [
    {
     "name": "stderr",
     "output_type": "stream",
     "text": [
      "Failed to write data to connection ResolvedIPv4Address(('34.28.32.244', 7687)) (ResolvedIPv4Address(('34.28.32.244', 7687)))\n",
      "Failed to write data to connection IPv4Address(('79412e05.databases.neo4j.io', 7687)) (ResolvedIPv4Address(('34.28.32.244', 7687)))\n"
     ]
    },
    {
     "data": {
      "text/html": [
       "<div>\n",
       "<style scoped>\n",
       "    .dataframe tbody tr th:only-of-type {\n",
       "        vertical-align: middle;\n",
       "    }\n",
       "\n",
       "    .dataframe tbody tr th {\n",
       "        vertical-align: top;\n",
       "    }\n",
       "\n",
       "    .dataframe thead th {\n",
       "        text-align: right;\n",
       "    }\n",
       "</style>\n",
       "<table border=\"1\" class=\"dataframe\">\n",
       "  <thead>\n",
       "    <tr style=\"text-align: right;\">\n",
       "      <th></th>\n",
       "    </tr>\n",
       "  </thead>\n",
       "  <tbody>\n",
       "  </tbody>\n",
       "</table>\n",
       "</div>"
      ],
      "text/plain": [
       "Empty DataFrame\n",
       "Columns: []\n",
       "Index: []"
      ]
     },
     "execution_count": 181,
     "metadata": {},
     "output_type": "execute_result"
    }
   ],
   "source": [
    "gds.run_cypher(\"\"\"CREATE CONSTRAINT geneId FOR (p:Gene) REQUIRE p.id IS NODE KEY\"\"\")"
   ]
  },
  {
   "cell_type": "code",
   "execution_count": 182,
   "id": "59593477-537b-4133-8c8d-a0e5e143a248",
   "metadata": {},
   "outputs": [
    {
     "data": {
      "text/html": [
       "<div>\n",
       "<style scoped>\n",
       "    .dataframe tbody tr th:only-of-type {\n",
       "        vertical-align: middle;\n",
       "    }\n",
       "\n",
       "    .dataframe tbody tr th {\n",
       "        vertical-align: top;\n",
       "    }\n",
       "\n",
       "    .dataframe thead th {\n",
       "        text-align: right;\n",
       "    }\n",
       "</style>\n",
       "<table border=\"1\" class=\"dataframe\">\n",
       "  <thead>\n",
       "    <tr style=\"text-align: right;\">\n",
       "      <th></th>\n",
       "    </tr>\n",
       "  </thead>\n",
       "  <tbody>\n",
       "  </tbody>\n",
       "</table>\n",
       "</div>"
      ],
      "text/plain": [
       "Empty DataFrame\n",
       "Columns: []\n",
       "Index: []"
      ]
     },
     "execution_count": 182,
     "metadata": {},
     "output_type": "execute_result"
    }
   ],
   "source": [
    "gds.run_cypher(\"\"\"\n",
    "UNWIND $edgeList AS rel\n",
    "WITH rel[0] AS id1, rel[1] AS id2 \n",
    "MERGE (m1:Gene {id:id1})\n",
    "MERGE (m2:Gene {id:id2})\n",
    "MERGE (m1)-[:RELATES_TO]->(m2)\"\"\",\n",
    "               {\"edgeList\": edge_list})"
   ]
  },
  {
   "cell_type": "markdown",
   "id": "db9b4a6e-f795-406f-bb82-6b2eeecff1e4",
   "metadata": {},
   "source": [
    "## Run k-medoid analysis"
   ]
  },
  {
   "cell_type": "code",
   "execution_count": 184,
   "id": "bef3dc6c-79a9-4df8-a4ca-f604aff91912",
   "metadata": {},
   "outputs": [],
   "source": [
    "g_gene, result = gds.graph.project(\"genes\", \"Gene\", {\"RELATES_TO\": {\"orientation\": \"UNDIRECTED\"}})"
   ]
  },
  {
   "cell_type": "code",
   "execution_count": 187,
   "id": "ee21b6e0-4de3-49cc-b1c8-24a49ee1a614",
   "metadata": {},
   "outputs": [],
   "source": [
    "g_gene_connected, result = find_giant_component(g_gene, \"wccId\", \"gene_connected\")"
   ]
  },
  {
   "cell_type": "code",
   "execution_count": 189,
   "id": "f14ac999-d96e-4e8c-bfde-0540b628a3af",
   "metadata": {},
   "outputs": [],
   "source": [
    "gene_distance_array, gene_index = get_distance_array(g_gene_connected,\n",
    "                                                     concurrency=5)"
   ]
  },
  {
   "cell_type": "code",
   "execution_count": 190,
   "id": "d7cd5b15-ca0b-41a8-9c2e-7d8a7b6eca21",
   "metadata": {},
   "outputs": [
    {
     "data": {
      "image/png": "[encoded data removed]",
      "text/plain": [
       "<Figure size 640x480 with 1 Axes>"
      ]
     },
     "metadata": {},
     "output_type": "display_data"
    }
   ],
   "source": [
    "gene_result_df = test_values_of_k(range(2,30), gene_distance_array)"
   ]
  },
  {
   "cell_type": "code",
   "execution_count": 192,
   "id": "26f990c8-c068-49b3-90e9-b40512434d76",
   "metadata": {},
   "outputs": [],
   "source": [
    "gene_medoids, gene_labels = write_kmedoid(gene_distance_array,\n",
    "                                          gene_index,\n",
    "                                          14,\n",
    "                                          \"medoid\", \n",
    "                                          \"partitionId\")"
   ]
  },
  {
   "cell_type": "code",
   "execution_count": 193,
   "id": "92174881-5d5b-414a-b396-d4abfd5dca39",
   "metadata": {},
   "outputs": [
    {
     "data": {
      "image/png": "[encoded data removed]",
      "text/plain": [
       "<Figure size 1000x800 with 1 Axes>"
      ]
     },
     "metadata": {},
     "output_type": "display_data"
    }
   ],
   "source": [
    "create_silhouette_plot(gene_distance_array, gene_labels, gene_medoids)"
   ]
  }
 ],
 "metadata": {
  "kernelspec": {
   "display_name": "ISED",
   "language": "python",
   "name": "ised"
  },
  "language_info": {
   "codemirror_mode": {
    "name": "ipython",
    "version": 3
   },
   "file_extension": ".py",
   "mimetype": "text/x-python",
   "name": "python",
   "nbconvert_exporter": "python",
   "pygments_lexer": "ipython3",
   "version": "3.10.12"
  }
 },
 "nbformat": 4,
 "nbformat_minor": 5
}
