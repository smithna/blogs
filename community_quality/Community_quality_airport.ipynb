{
 "cells": [
  {
   "cell_type": "code",
   "execution_count": 1,
   "id": "09b2d14b",
   "metadata": {},
   "outputs": [],
   "source": [
    "from graphdatascience import GraphDataScience\n",
    "import pandas as pd\n",
    "from sklearn.cluster import KMeans\n",
    "from sklearn.metrics import silhouette_score\n",
    "import seaborn as sns"
   ]
  },
  {
   "cell_type": "markdown",
   "id": "7993e04d",
   "metadata": {},
   "source": [
    "This notebook was run with a free Neo4j sandbox. To run it yourself, log in to https://sandbox.neo4j.com and launch the \"Data Science\" project. Then, copy the connection information from your sandbox into the cell below."
   ]
  },
  {
   "cell_type": "code",
   "execution_count": 2,
   "id": "9365fa27",
   "metadata": {},
   "outputs": [],
   "source": [
    "gds = GraphDataScience(\"bolt://54.166.68.113:7687\", auth=('neo4j', 'morals-graphs-probes'))\n",
    "gds.set_database(\"neo4j\")"
   ]
  },
  {
   "cell_type": "markdown",
   "id": "fb301947",
   "metadata": {},
   "source": [
    "# Discover communities"
   ]
  },
  {
   "cell_type": "markdown",
   "id": "31df5574",
   "metadata": {},
   "source": [
    "*This section of the notebook was run in advance of the GraphConnect presentation.*\n",
    "\n",
    "Project a graph of airports and HAS_ROUTE relationships."
   ]
  },
  {
   "cell_type": "code",
   "execution_count": 3,
   "id": "531f1ba8",
   "metadata": {},
   "outputs": [],
   "source": [
    "G_air, results = gds.graph.project(\"air-routes\", \"Airport\", \n",
    "                                   {\"HAS_ROUTE\": {\"orientation\": \"UNDIRECTED\"}})"
   ]
  },
  {
   "cell_type": "code",
   "execution_count": 4,
   "id": "3858a27b",
   "metadata": {},
   "outputs": [
    {
     "data": {
      "text/plain": [
       "nodeProjection            {'Airport': {'label': 'Airport', 'properties':...\n",
       "relationshipProjection    {'HAS_ROUTE': {'orientation': 'UNDIRECTED', 'a...\n",
       "graphName                                                        air-routes\n",
       "nodeCount                                                              3503\n",
       "relationshipCount                                                     92778\n",
       "projectMillis                                                            27\n",
       "Name: 0, dtype: object"
      ]
     },
     "execution_count": 4,
     "metadata": {},
     "output_type": "execute_result"
    }
   ],
   "source": [
    "results"
   ]
  },
  {
   "cell_type": "markdown",
   "id": "c43acc7a",
   "metadata": {},
   "source": [
    "Check the count of weakly connected components. Weakly connected components are communities within the graph where all nodes in within the same component are connected by paths."
   ]
  },
  {
   "cell_type": "code",
   "execution_count": 5,
   "id": "61d1c58d",
   "metadata": {},
   "outputs": [
    {
     "data": {
      "text/plain": [
       "{'p99': 1,\n",
       " 'min': 1,\n",
       " 'max': 3292,\n",
       " 'mean': 16.52358490566038,\n",
       " 'p90': 1,\n",
       " 'p50': 1,\n",
       " 'p999': 3292,\n",
       " 'p95': 1,\n",
       " 'p75': 1}"
      ]
     },
     "execution_count": 5,
     "metadata": {},
     "output_type": "execute_result"
    }
   ],
   "source": [
    "gds.wcc.stats(G_air)['componentDistribution']"
   ]
  },
  {
   "cell_type": "markdown",
   "id": "da31b07c",
   "metadata": {},
   "source": [
    "It looks like there are several components of size 1. They aren't very interesting for community detection. Let's make a subgraph that just has the giant connected component."
   ]
  },
  {
   "cell_type": "code",
   "execution_count": 6,
   "id": "f74a431f",
   "metadata": {},
   "outputs": [
    {
     "data": {
      "text/plain": [
       "mutateMillis                                                             0\n",
       "nodePropertiesWritten                                                 3503\n",
       "componentCount                                                         212\n",
       "componentDistribution    {'p99': 1, 'min': 1, 'max': 3292, 'mean': 16.5...\n",
       "postProcessingMillis                                                     6\n",
       "preProcessingMillis                                                      0\n",
       "computeMillis                                                            3\n",
       "configuration            {'seedProperty': None, 'consecutiveIds': False...\n",
       "Name: 0, dtype: object"
      ]
     },
     "execution_count": 6,
     "metadata": {},
     "output_type": "execute_result"
    }
   ],
   "source": [
    "gds.wcc.mutate(G_air, mutateProperty = \"wccComponent\")"
   ]
  },
  {
   "cell_type": "code",
   "execution_count": 7,
   "id": "6ba5ae40",
   "metadata": {},
   "outputs": [],
   "source": [
    "component_df = gds.graph.streamNodeProperty(G_air, \"wccComponent\")"
   ]
  },
  {
   "cell_type": "markdown",
   "id": "aff897d6",
   "metadata": {},
   "source": [
    "Find the component that has the most nodes."
   ]
  },
  {
   "cell_type": "code",
   "execution_count": 8,
   "id": "68466c66",
   "metadata": {},
   "outputs": [
    {
     "data": {
      "text/plain": [
       "propertyValue\n",
       "0       3292\n",
       "3013       1\n",
       "2993       1\n",
       "472        1\n",
       "941        1\n",
       "        ... \n",
       "3479       1\n",
       "3480       1\n",
       "3481       1\n",
       "3483       1\n",
       "3490       1\n",
       "Length: 212, dtype: int64"
      ]
     },
     "execution_count": 8,
     "metadata": {},
     "output_type": "execute_result"
    }
   ],
   "source": [
    "component_df.value_counts('propertyValue').sort_values(ascending=False)"
   ]
  },
  {
   "cell_type": "markdown",
   "id": "fb8ac9ef",
   "metadata": {},
   "source": [
    "Record the component ids in the persistent graph on disk."
   ]
  },
  {
   "cell_type": "code",
   "execution_count": 9,
   "id": "cf206062",
   "metadata": {},
   "outputs": [
    {
     "data": {
      "text/plain": [
       "writeMillis                      10\n",
       "graphName                air-routes\n",
       "nodeProperties       [wccComponent]\n",
       "propertiesWritten              3503\n",
       "Name: 0, dtype: object"
      ]
     },
     "execution_count": 9,
     "metadata": {},
     "output_type": "execute_result"
    }
   ],
   "source": [
    "gds.graph.writeNodeProperties(G_air, [\"wccComponent\"])"
   ]
  },
  {
   "cell_type": "markdown",
   "id": "524dfd71",
   "metadata": {},
   "source": [
    "Create a subgraph that has only the connected airports."
   ]
  },
  {
   "cell_type": "code",
   "execution_count": 10,
   "id": "5830b58f",
   "metadata": {},
   "outputs": [],
   "source": [
    "G_connected, result = gds.beta.graph.project.subgraph(\"connected-airports\", \n",
    "                                                       G_air, \n",
    "                                                       f\"n.wccComponent = 0\", \n",
    "                                                       \"*\")"
   ]
  },
  {
   "cell_type": "code",
   "execution_count": 11,
   "id": "fbbf0483",
   "metadata": {},
   "outputs": [
    {
     "data": {
      "text/plain": [
       "fromGraphName                 air-routes\n",
       "nodeFilter            n.wccComponent = 0\n",
       "relationshipFilter                     *\n",
       "graphName             connected-airports\n",
       "nodeCount                           3292\n",
       "relationshipCount                  92778\n",
       "projectMillis                         57\n",
       "Name: 0, dtype: object"
      ]
     },
     "execution_count": 11,
     "metadata": {},
     "output_type": "execute_result"
    }
   ],
   "source": [
    "result"
   ]
  },
  {
   "cell_type": "markdown",
   "id": "6208a008",
   "metadata": {},
   "source": [
    "Create communities with the Louvain algorithm."
   ]
  },
  {
   "cell_type": "code",
   "execution_count": 12,
   "id": "65e7d284",
   "metadata": {},
   "outputs": [
    {
     "data": {
      "text/plain": [
       "writeMillis                                                            264\n",
       "nodePropertiesWritten                                                 3292\n",
       "modularity                                                        0.595042\n",
       "modularities             [0.572640785441552, 0.5945237672433423, 0.5950...\n",
       "ranLevels                                                                3\n",
       "communityCount                                                          22\n",
       "communityDistribution    {'p99': 799, 'min': 2, 'max': 799, 'mean': 149...\n",
       "postProcessingMillis                                                     3\n",
       "preProcessingMillis                                                      0\n",
       "computeMillis                                                         1934\n",
       "configuration            {'maxIterations': 10, 'writeConcurrency': 4, '...\n",
       "Name: 0, dtype: object"
      ]
     },
     "execution_count": 12,
     "metadata": {},
     "output_type": "execute_result"
    }
   ],
   "source": [
    "gds.louvain.write(G_connected, writeProperty = \"louvainCommunity\")"
   ]
  },
  {
   "cell_type": "markdown",
   "id": "e86e17aa",
   "metadata": {},
   "source": [
    "Create communities with the label propagation algorithm."
   ]
  },
  {
   "cell_type": "code",
   "execution_count": 13,
   "id": "bfa08450",
   "metadata": {},
   "outputs": [
    {
     "data": {
      "text/plain": [
       "writeMillis                                                             10\n",
       "nodePropertiesWritten                                                 3292\n",
       "ranIterations                                                            3\n",
       "didConverge                                                           True\n",
       "communityCount                                                           2\n",
       "communityDistribution    {'p99': 3193, 'min': 99, 'max': 3193, 'mean': ...\n",
       "postProcessingMillis                                                     4\n",
       "preProcessingMillis                                                      0\n",
       "computeMillis                                                           21\n",
       "configuration            {'maxIterations': 10, 'writeConcurrency': 4, '...\n",
       "Name: 0, dtype: object"
      ]
     },
     "execution_count": 13,
     "metadata": {},
     "output_type": "execute_result"
    }
   ],
   "source": [
    "gds.labelPropagation.write(G_connected, writeProperty = \"labelPropCommunity\")"
   ]
  },
  {
   "cell_type": "markdown",
   "id": "b23ab058",
   "metadata": {},
   "source": [
    "K-Means isn't available in the Neo4j sandboxes yet, so let's stream embeddings and calculate K-Means in Python."
   ]
  },
  {
   "cell_type": "code",
   "execution_count": 14,
   "id": "b72f16ce",
   "metadata": {},
   "outputs": [],
   "source": [
    "embedding_df = gds.fastRP.stream(G_connected, embeddingDimension=64)"
   ]
  },
  {
   "cell_type": "markdown",
   "id": "5eeb8e7d",
   "metadata": {},
   "source": [
    "We're using the kmeans algorithm from scikit learn here."
   ]
  },
  {
   "cell_type": "code",
   "execution_count": 15,
   "id": "7715c277",
   "metadata": {},
   "outputs": [],
   "source": [
    "kmeans = KMeans(n_clusters = 6)"
   ]
  },
  {
   "cell_type": "code",
   "execution_count": 16,
   "id": "3438c07a",
   "metadata": {},
   "outputs": [],
   "source": [
    "kmeans_clusters = kmeans.fit_transform(list(embedding_df['embedding']))"
   ]
  },
  {
   "cell_type": "code",
   "execution_count": 17,
   "id": "0f29b497",
   "metadata": {},
   "outputs": [],
   "source": [
    "embedding_df['cluster'] = kmeans.labels_"
   ]
  },
  {
   "cell_type": "markdown",
   "id": "5d297eb7",
   "metadata": {},
   "source": [
    "How many nodes ended up in each cluster?"
   ]
  },
  {
   "cell_type": "code",
   "execution_count": 18,
   "id": "e3739b61",
   "metadata": {},
   "outputs": [
    {
     "data": {
      "text/plain": [
       "1    762\n",
       "3    749\n",
       "0    717\n",
       "2    506\n",
       "4    366\n",
       "5    192\n",
       "Name: cluster, dtype: int64"
      ]
     },
     "execution_count": 18,
     "metadata": {},
     "output_type": "execute_result"
    }
   ],
   "source": [
    "embedding_df['cluster'].value_counts()"
   ]
  },
  {
   "cell_type": "markdown",
   "id": "1aeef87b",
   "metadata": {},
   "source": [
    "What is the silhouette score for the k-means clusters?"
   ]
  },
  {
   "cell_type": "code",
   "execution_count": 19,
   "id": "568f5617",
   "metadata": {},
   "outputs": [
    {
     "data": {
      "text/plain": [
       "0.2521656786202897"
      ]
     },
     "execution_count": 19,
     "metadata": {},
     "output_type": "execute_result"
    }
   ],
   "source": [
    "silhouette_score(list(embedding_df['embedding']), embedding_df['cluster'])"
   ]
  },
  {
   "cell_type": "markdown",
   "id": "eab69ab8",
   "metadata": {},
   "source": [
    "Now we'll write the K-Means clusters back to Neo4j. To do that, turn the dataframe into a list of dictionaries."
   ]
  },
  {
   "cell_type": "code",
   "execution_count": 20,
   "id": "46ec1312",
   "metadata": {},
   "outputs": [],
   "source": [
    "kmeans_dict = embedding_df[['nodeId', 'cluster']].to_dict(\"records\")"
   ]
  },
  {
   "cell_type": "markdown",
   "id": "8a2a05c2",
   "metadata": {},
   "source": [
    "Pass the list of dictionaries as a parameter to a Cypher query."
   ]
  },
  {
   "cell_type": "code",
   "execution_count": 21,
   "id": "8bab336f",
   "metadata": {},
   "outputs": [
    {
     "data": {
      "text/html": [
       "<div>\n",
       "<style scoped>\n",
       "    .dataframe tbody tr th:only-of-type {\n",
       "        vertical-align: middle;\n",
       "    }\n",
       "\n",
       "    .dataframe tbody tr th {\n",
       "        vertical-align: top;\n",
       "    }\n",
       "\n",
       "    .dataframe thead th {\n",
       "        text-align: right;\n",
       "    }\n",
       "</style>\n",
       "<table border=\"1\" class=\"dataframe\">\n",
       "  <thead>\n",
       "    <tr style=\"text-align: right;\">\n",
       "      <th></th>\n",
       "    </tr>\n",
       "  </thead>\n",
       "  <tbody>\n",
       "  </tbody>\n",
       "</table>\n",
       "</div>"
      ],
      "text/plain": [
       "Empty DataFrame\n",
       "Columns: []\n",
       "Index: []"
      ]
     },
     "execution_count": 21,
     "metadata": {},
     "output_type": "execute_result"
    }
   ],
   "source": [
    "gds.run_cypher(\"\"\"\n",
    "UNWIND $kmeansAssigments as row\n",
    "MATCH (n) where id(n) = row['nodeId']\n",
    "SET n.kMeansCommunity = row['cluster']\n",
    "\"\"\", {\"kmeansAssigments\": kmeans_dict})"
   ]
  },
  {
   "cell_type": "markdown",
   "id": "4440f260",
   "metadata": {},
   "source": [
    "Drop the old graph projections."
   ]
  },
  {
   "cell_type": "code",
   "execution_count": 22,
   "id": "3c52c0a4",
   "metadata": {},
   "outputs": [
    {
     "data": {
      "text/plain": [
       "graphName                                           connected-airports\n",
       "database                                                         neo4j\n",
       "memoryUsage                                                           \n",
       "sizeInBytes                                                         -1\n",
       "nodeCount                                                         3292\n",
       "relationshipCount                                                92778\n",
       "configuration        {'relationshipProjection': {'HAS_ROUTE': {'ori...\n",
       "density                                                       0.008564\n",
       "creationTime                       2022-06-08T16:20:55.460720000+00:00\n",
       "modificationTime                   2022-06-08T16:20:55.519346000+00:00\n",
       "schema               {'relationships': {'HAS_ROUTE': {}}, 'nodes': ...\n",
       "Name: 0, dtype: object"
      ]
     },
     "execution_count": 22,
     "metadata": {},
     "output_type": "execute_result"
    }
   ],
   "source": [
    "gds.graph.drop(G_air)\n",
    "gds.graph.drop(G_connected)"
   ]
  },
  {
   "cell_type": "markdown",
   "id": "4bf1601d",
   "metadata": {},
   "source": [
    "Create a new graph projection that contains only connected airports and includes all three of our community ids as node properties.\n",
    "\n",
    "Start by adding a new ConnectedAirport label to airports in component 0."
   ]
  },
  {
   "cell_type": "code",
   "execution_count": 23,
   "id": "5c20ca1f",
   "metadata": {},
   "outputs": [
    {
     "data": {
      "text/html": [
       "<div>\n",
       "<style scoped>\n",
       "    .dataframe tbody tr th:only-of-type {\n",
       "        vertical-align: middle;\n",
       "    }\n",
       "\n",
       "    .dataframe tbody tr th {\n",
       "        vertical-align: top;\n",
       "    }\n",
       "\n",
       "    .dataframe thead th {\n",
       "        text-align: right;\n",
       "    }\n",
       "</style>\n",
       "<table border=\"1\" class=\"dataframe\">\n",
       "  <thead>\n",
       "    <tr style=\"text-align: right;\">\n",
       "      <th></th>\n",
       "      <th>airportCount</th>\n",
       "    </tr>\n",
       "  </thead>\n",
       "  <tbody>\n",
       "    <tr>\n",
       "      <th>0</th>\n",
       "      <td>3292</td>\n",
       "    </tr>\n",
       "  </tbody>\n",
       "</table>\n",
       "</div>"
      ],
      "text/plain": [
       "   airportCount\n",
       "0          3292"
      ]
     },
     "execution_count": 23,
     "metadata": {},
     "output_type": "execute_result"
    }
   ],
   "source": [
    "gds.run_cypher(\"\"\"MATCH (a:Airport {wccComponent:0}) SET a:ConnectedAirport RETURN count(a) as airportCount\"\"\")"
   ]
  },
  {
   "cell_type": "markdown",
   "id": "0a38c630",
   "metadata": {},
   "source": [
    "Create the new projection."
   ]
  },
  {
   "cell_type": "code",
   "execution_count": 24,
   "id": "a70c6522",
   "metadata": {},
   "outputs": [],
   "source": [
    "G_air, results = gds.graph.project(\"air-routes\", \n",
    "                                   {\"ConnectedAirport\": \n",
    "                                        {\"properties\": [\"louvainCommunity\", \"labelPropCommunity\", \"kMeansCommunity\"]}}, \n",
    "                                   {\"HAS_ROUTE\": {\"orientation\": \"UNDIRECTED\"}})"
   ]
  },
  {
   "cell_type": "markdown",
   "id": "bb1277f9",
   "metadata": {},
   "source": [
    "Create a dataframe with the node counts for each community."
   ]
  },
  {
   "cell_type": "code",
   "execution_count": 25,
   "id": "05e475a5",
   "metadata": {},
   "outputs": [],
   "source": [
    "community_df = gds.graph.streamNodeProperties(G_air, [\"louvainCommunity\", \"labelPropCommunity\", \"kMeansCommunity\"])\n",
    "community_df = community_df.groupby(['nodeProperty', 'propertyValue']).count()\n",
    "community_df.reset_index(inplace=True)\n",
    "community_df.rename({\"nodeProperty\": \"community_property\", \"propertyValue\": \"community\", \"nodeId\":\"node_count\"}, \n",
    "                    axis=1, inplace=True)"
   ]
  },
  {
   "cell_type": "markdown",
   "id": "ad59a172",
   "metadata": {},
   "source": [
    "Write a function to create a subgraph for a community property. "
   ]
  },
  {
   "cell_type": "code",
   "execution_count": 26,
   "id": "40e61661",
   "metadata": {},
   "outputs": [],
   "source": [
    "def create_subgraph(community_property, community_id):\n",
    "    subgraph_name = f\"{community_property}_{community_id}\"\n",
    "    subgraph_filter = f\"n.{community_property} = {community_id}\"\n",
    "    subgraph, result = gds.beta.graph.project.subgraph(subgraph_name, \n",
    "                                                       G_air,\n",
    "                                                       subgraph_filter, \n",
    "                                                       \"*\")\n",
    "    return subgraph"
   ]
  },
  {
   "cell_type": "markdown",
   "id": "62b8d091",
   "metadata": {},
   "source": [
    "Run the function for each row in the community_df data frame."
   ]
  },
  {
   "cell_type": "code",
   "execution_count": 27,
   "id": "3648731e",
   "metadata": {},
   "outputs": [],
   "source": [
    "community_df['subgraph'] = community_df.apply(lambda row: \n",
    "                                              create_subgraph(row['community_property'], row['community']),\n",
    "                                              axis=1)  "
   ]
  },
  {
   "cell_type": "markdown",
   "id": "aca1739f",
   "metadata": {},
   "source": [
    "# Setup complete\n",
    "Before the session, I created communities from a graph of airports and air routes. The dataframe below contains the community property, community ID, and a node count for each community in the graph. It also contains a column which holds a python graph object for each community."
   ]
  },
  {
   "cell_type": "code",
   "execution_count": 28,
   "id": "eb8e5518",
   "metadata": {},
   "outputs": [
    {
     "data": {
      "text/html": [
       "<div>\n",
       "<style scoped>\n",
       "    .dataframe tbody tr th:only-of-type {\n",
       "        vertical-align: middle;\n",
       "    }\n",
       "\n",
       "    .dataframe tbody tr th {\n",
       "        vertical-align: top;\n",
       "    }\n",
       "\n",
       "    .dataframe thead th {\n",
       "        text-align: right;\n",
       "    }\n",
       "</style>\n",
       "<table border=\"1\" class=\"dataframe\">\n",
       "  <thead>\n",
       "    <tr style=\"text-align: right;\">\n",
       "      <th></th>\n",
       "      <th>community_property</th>\n",
       "      <th>community</th>\n",
       "      <th>node_count</th>\n",
       "      <th>subgraph</th>\n",
       "    </tr>\n",
       "  </thead>\n",
       "  <tbody>\n",
       "    <tr>\n",
       "      <th>0</th>\n",
       "      <td>kMeansCommunity</td>\n",
       "      <td>0</td>\n",
       "      <td>717</td>\n",
       "      <td>&lt;graphdatascience.graph.graph_object.Graph obj...</td>\n",
       "    </tr>\n",
       "    <tr>\n",
       "      <th>1</th>\n",
       "      <td>kMeansCommunity</td>\n",
       "      <td>1</td>\n",
       "      <td>762</td>\n",
       "      <td>&lt;graphdatascience.graph.graph_object.Graph obj...</td>\n",
       "    </tr>\n",
       "    <tr>\n",
       "      <th>2</th>\n",
       "      <td>kMeansCommunity</td>\n",
       "      <td>2</td>\n",
       "      <td>506</td>\n",
       "      <td>&lt;graphdatascience.graph.graph_object.Graph obj...</td>\n",
       "    </tr>\n",
       "    <tr>\n",
       "      <th>3</th>\n",
       "      <td>kMeansCommunity</td>\n",
       "      <td>3</td>\n",
       "      <td>749</td>\n",
       "      <td>&lt;graphdatascience.graph.graph_object.Graph obj...</td>\n",
       "    </tr>\n",
       "    <tr>\n",
       "      <th>4</th>\n",
       "      <td>kMeansCommunity</td>\n",
       "      <td>4</td>\n",
       "      <td>366</td>\n",
       "      <td>&lt;graphdatascience.graph.graph_object.Graph obj...</td>\n",
       "    </tr>\n",
       "    <tr>\n",
       "      <th>5</th>\n",
       "      <td>kMeansCommunity</td>\n",
       "      <td>5</td>\n",
       "      <td>192</td>\n",
       "      <td>&lt;graphdatascience.graph.graph_object.Graph obj...</td>\n",
       "    </tr>\n",
       "    <tr>\n",
       "      <th>6</th>\n",
       "      <td>labelPropCommunity</td>\n",
       "      <td>8629</td>\n",
       "      <td>3193</td>\n",
       "      <td>&lt;graphdatascience.graph.graph_object.Graph obj...</td>\n",
       "    </tr>\n",
       "    <tr>\n",
       "      <th>7</th>\n",
       "      <td>labelPropCommunity</td>\n",
       "      <td>8634</td>\n",
       "      <td>99</td>\n",
       "      <td>&lt;graphdatascience.graph.graph_object.Graph obj...</td>\n",
       "    </tr>\n",
       "    <tr>\n",
       "      <th>8</th>\n",
       "      <td>louvainCommunity</td>\n",
       "      <td>65</td>\n",
       "      <td>271</td>\n",
       "      <td>&lt;graphdatascience.graph.graph_object.Graph obj...</td>\n",
       "    </tr>\n",
       "    <tr>\n",
       "      <th>9</th>\n",
       "      <td>louvainCommunity</td>\n",
       "      <td>117</td>\n",
       "      <td>478</td>\n",
       "      <td>&lt;graphdatascience.graph.graph_object.Graph obj...</td>\n",
       "    </tr>\n",
       "    <tr>\n",
       "      <th>10</th>\n",
       "      <td>louvainCommunity</td>\n",
       "      <td>301</td>\n",
       "      <td>225</td>\n",
       "      <td>&lt;graphdatascience.graph.graph_object.Graph obj...</td>\n",
       "    </tr>\n",
       "    <tr>\n",
       "      <th>11</th>\n",
       "      <td>louvainCommunity</td>\n",
       "      <td>500</td>\n",
       "      <td>530</td>\n",
       "      <td>&lt;graphdatascience.graph.graph_object.Graph obj...</td>\n",
       "    </tr>\n",
       "    <tr>\n",
       "      <th>12</th>\n",
       "      <td>louvainCommunity</td>\n",
       "      <td>1093</td>\n",
       "      <td>6</td>\n",
       "      <td>&lt;graphdatascience.graph.graph_object.Graph obj...</td>\n",
       "    </tr>\n",
       "    <tr>\n",
       "      <th>13</th>\n",
       "      <td>louvainCommunity</td>\n",
       "      <td>1097</td>\n",
       "      <td>12</td>\n",
       "      <td>&lt;graphdatascience.graph.graph_object.Graph obj...</td>\n",
       "    </tr>\n",
       "    <tr>\n",
       "      <th>14</th>\n",
       "      <td>louvainCommunity</td>\n",
       "      <td>1098</td>\n",
       "      <td>6</td>\n",
       "      <td>&lt;graphdatascience.graph.graph_object.Graph obj...</td>\n",
       "    </tr>\n",
       "    <tr>\n",
       "      <th>15</th>\n",
       "      <td>louvainCommunity</td>\n",
       "      <td>1100</td>\n",
       "      <td>34</td>\n",
       "      <td>&lt;graphdatascience.graph.graph_object.Graph obj...</td>\n",
       "    </tr>\n",
       "    <tr>\n",
       "      <th>16</th>\n",
       "      <td>louvainCommunity</td>\n",
       "      <td>1104</td>\n",
       "      <td>24</td>\n",
       "      <td>&lt;graphdatascience.graph.graph_object.Graph obj...</td>\n",
       "    </tr>\n",
       "    <tr>\n",
       "      <th>17</th>\n",
       "      <td>louvainCommunity</td>\n",
       "      <td>1106</td>\n",
       "      <td>4</td>\n",
       "      <td>&lt;graphdatascience.graph.graph_object.Graph obj...</td>\n",
       "    </tr>\n",
       "    <tr>\n",
       "      <th>18</th>\n",
       "      <td>louvainCommunity</td>\n",
       "      <td>1108</td>\n",
       "      <td>28</td>\n",
       "      <td>&lt;graphdatascience.graph.graph_object.Graph obj...</td>\n",
       "    </tr>\n",
       "    <tr>\n",
       "      <th>19</th>\n",
       "      <td>louvainCommunity</td>\n",
       "      <td>1526</td>\n",
       "      <td>534</td>\n",
       "      <td>&lt;graphdatascience.graph.graph_object.Graph obj...</td>\n",
       "    </tr>\n",
       "    <tr>\n",
       "      <th>20</th>\n",
       "      <td>louvainCommunity</td>\n",
       "      <td>1585</td>\n",
       "      <td>196</td>\n",
       "      <td>&lt;graphdatascience.graph.graph_object.Graph obj...</td>\n",
       "    </tr>\n",
       "    <tr>\n",
       "      <th>21</th>\n",
       "      <td>louvainCommunity</td>\n",
       "      <td>1759</td>\n",
       "      <td>7</td>\n",
       "      <td>&lt;graphdatascience.graph.graph_object.Graph obj...</td>\n",
       "    </tr>\n",
       "    <tr>\n",
       "      <th>22</th>\n",
       "      <td>louvainCommunity</td>\n",
       "      <td>1807</td>\n",
       "      <td>10</td>\n",
       "      <td>&lt;graphdatascience.graph.graph_object.Graph obj...</td>\n",
       "    </tr>\n",
       "    <tr>\n",
       "      <th>23</th>\n",
       "      <td>louvainCommunity</td>\n",
       "      <td>1813</td>\n",
       "      <td>12</td>\n",
       "      <td>&lt;graphdatascience.graph.graph_object.Graph obj...</td>\n",
       "    </tr>\n",
       "    <tr>\n",
       "      <th>24</th>\n",
       "      <td>louvainCommunity</td>\n",
       "      <td>1858</td>\n",
       "      <td>64</td>\n",
       "      <td>&lt;graphdatascience.graph.graph_object.Graph obj...</td>\n",
       "    </tr>\n",
       "    <tr>\n",
       "      <th>25</th>\n",
       "      <td>louvainCommunity</td>\n",
       "      <td>1859</td>\n",
       "      <td>799</td>\n",
       "      <td>&lt;graphdatascience.graph.graph_object.Graph obj...</td>\n",
       "    </tr>\n",
       "    <tr>\n",
       "      <th>26</th>\n",
       "      <td>louvainCommunity</td>\n",
       "      <td>1877</td>\n",
       "      <td>18</td>\n",
       "      <td>&lt;graphdatascience.graph.graph_object.Graph obj...</td>\n",
       "    </tr>\n",
       "    <tr>\n",
       "      <th>27</th>\n",
       "      <td>louvainCommunity</td>\n",
       "      <td>1929</td>\n",
       "      <td>8</td>\n",
       "      <td>&lt;graphdatascience.graph.graph_object.Graph obj...</td>\n",
       "    </tr>\n",
       "    <tr>\n",
       "      <th>28</th>\n",
       "      <td>louvainCommunity</td>\n",
       "      <td>1950</td>\n",
       "      <td>24</td>\n",
       "      <td>&lt;graphdatascience.graph.graph_object.Graph obj...</td>\n",
       "    </tr>\n",
       "    <tr>\n",
       "      <th>29</th>\n",
       "      <td>louvainCommunity</td>\n",
       "      <td>1962</td>\n",
       "      <td>2</td>\n",
       "      <td>&lt;graphdatascience.graph.graph_object.Graph obj...</td>\n",
       "    </tr>\n",
       "  </tbody>\n",
       "</table>\n",
       "</div>"
      ],
      "text/plain": [
       "    community_property  community  node_count  \\\n",
       "0      kMeansCommunity          0         717   \n",
       "1      kMeansCommunity          1         762   \n",
       "2      kMeansCommunity          2         506   \n",
       "3      kMeansCommunity          3         749   \n",
       "4      kMeansCommunity          4         366   \n",
       "5      kMeansCommunity          5         192   \n",
       "6   labelPropCommunity       8629        3193   \n",
       "7   labelPropCommunity       8634          99   \n",
       "8     louvainCommunity         65         271   \n",
       "9     louvainCommunity        117         478   \n",
       "10    louvainCommunity        301         225   \n",
       "11    louvainCommunity        500         530   \n",
       "12    louvainCommunity       1093           6   \n",
       "13    louvainCommunity       1097          12   \n",
       "14    louvainCommunity       1098           6   \n",
       "15    louvainCommunity       1100          34   \n",
       "16    louvainCommunity       1104          24   \n",
       "17    louvainCommunity       1106           4   \n",
       "18    louvainCommunity       1108          28   \n",
       "19    louvainCommunity       1526         534   \n",
       "20    louvainCommunity       1585         196   \n",
       "21    louvainCommunity       1759           7   \n",
       "22    louvainCommunity       1807          10   \n",
       "23    louvainCommunity       1813          12   \n",
       "24    louvainCommunity       1858          64   \n",
       "25    louvainCommunity       1859         799   \n",
       "26    louvainCommunity       1877          18   \n",
       "27    louvainCommunity       1929           8   \n",
       "28    louvainCommunity       1950          24   \n",
       "29    louvainCommunity       1962           2   \n",
       "\n",
       "                                             subgraph  \n",
       "0   <graphdatascience.graph.graph_object.Graph obj...  \n",
       "1   <graphdatascience.graph.graph_object.Graph obj...  \n",
       "2   <graphdatascience.graph.graph_object.Graph obj...  \n",
       "3   <graphdatascience.graph.graph_object.Graph obj...  \n",
       "4   <graphdatascience.graph.graph_object.Graph obj...  \n",
       "5   <graphdatascience.graph.graph_object.Graph obj...  \n",
       "6   <graphdatascience.graph.graph_object.Graph obj...  \n",
       "7   <graphdatascience.graph.graph_object.Graph obj...  \n",
       "8   <graphdatascience.graph.graph_object.Graph obj...  \n",
       "9   <graphdatascience.graph.graph_object.Graph obj...  \n",
       "10  <graphdatascience.graph.graph_object.Graph obj...  \n",
       "11  <graphdatascience.graph.graph_object.Graph obj...  \n",
       "12  <graphdatascience.graph.graph_object.Graph obj...  \n",
       "13  <graphdatascience.graph.graph_object.Graph obj...  \n",
       "14  <graphdatascience.graph.graph_object.Graph obj...  \n",
       "15  <graphdatascience.graph.graph_object.Graph obj...  \n",
       "16  <graphdatascience.graph.graph_object.Graph obj...  \n",
       "17  <graphdatascience.graph.graph_object.Graph obj...  \n",
       "18  <graphdatascience.graph.graph_object.Graph obj...  \n",
       "19  <graphdatascience.graph.graph_object.Graph obj...  \n",
       "20  <graphdatascience.graph.graph_object.Graph obj...  \n",
       "21  <graphdatascience.graph.graph_object.Graph obj...  \n",
       "22  <graphdatascience.graph.graph_object.Graph obj...  \n",
       "23  <graphdatascience.graph.graph_object.Graph obj...  \n",
       "24  <graphdatascience.graph.graph_object.Graph obj...  \n",
       "25  <graphdatascience.graph.graph_object.Graph obj...  \n",
       "26  <graphdatascience.graph.graph_object.Graph obj...  \n",
       "27  <graphdatascience.graph.graph_object.Graph obj...  \n",
       "28  <graphdatascience.graph.graph_object.Graph obj...  \n",
       "29  <graphdatascience.graph.graph_object.Graph obj...  "
      ]
     },
     "execution_count": 28,
     "metadata": {},
     "output_type": "execute_result"
    }
   ],
   "source": [
    "community_df"
   ]
  },
  {
   "cell_type": "markdown",
   "id": "1227c59b",
   "metadata": {},
   "source": [
    "# Conductance\n",
    "What percentage of relationships that start in one cluster end in a different cluster?"
   ]
  },
  {
   "cell_type": "markdown",
   "id": "e38761a5",
   "metadata": {},
   "source": [
    "Call the conductance algorithm for each community property in G_air and collect the results."
   ]
  },
  {
   "cell_type": "code",
   "execution_count": null,
   "id": "9fa05f15",
   "metadata": {},
   "outputs": [],
   "source": [
    "community_properties = ['louvainCommunity', 'labelPropCommunity', 'kMeansCommunity']"
   ]
  },
  {
   "cell_type": "code",
   "execution_count": null,
   "id": "6f9a8152",
   "metadata": {},
   "outputs": [],
   "source": [
    "conductance_dfs = []\n",
    "for prop in community_properties:\n",
    "    conductance_df = gds.alpha.conductance.stream(G_air, communityProperty=prop)\n",
    "    conductance_df['community_property'] = prop\n",
    "    conductance_dfs.append(conductance_df)\n",
    "conductance_df = pd.concat(conductance_dfs)"
   ]
  },
  {
   "cell_type": "code",
   "execution_count": null,
   "id": "09eb3b3b",
   "metadata": {},
   "outputs": [],
   "source": [
    "conductance_df"
   ]
  },
  {
   "cell_type": "code",
   "execution_count": null,
   "id": "9c806b6e",
   "metadata": {},
   "outputs": [],
   "source": [
    "community_df = community_df.merge(conductance_df, on=['community_property', 'community'])"
   ]
  },
  {
   "cell_type": "markdown",
   "id": "4a454768",
   "metadata": {},
   "source": [
    "Plot the conductance versus the node count for each community. It seems that the largest communities are big enough to be mostly self-contained, while the smaller communities have a range of conductance scores."
   ]
  },
  {
   "cell_type": "code",
   "execution_count": null,
   "id": "bc6d0721",
   "metadata": {},
   "outputs": [],
   "source": [
    "sns.scatterplot(x=\"node_count\", y=\"conductance\", hue=\"community_property\", data=community_df)"
   ]
  },
  {
   "cell_type": "markdown",
   "id": "fc4cc1ec",
   "metadata": {},
   "source": [
    "# Modularity\n",
    "What is the difference between the fraction of within-cluster relationships that we observe versus what we would see if nodes kept the same degree, but the relationships were connected randomly? We can calculate this for the Louvain communities, but there's not a quick way to calculate it for the others."
   ]
  },
  {
   "cell_type": "code",
   "execution_count": null,
   "id": "8dd5ec28",
   "metadata": {},
   "outputs": [],
   "source": [
    "gds.louvain.stats(G_air)"
   ]
  },
  {
   "cell_type": "markdown",
   "id": "d9a9d306",
   "metadata": {},
   "source": [
    "# Clustering Coefficient\n",
    "What is the probability that two neighbors of a node also have a relationship between them?\n",
    "\n",
    "Call the localClusteringCoefficient algorithm for each subgraph in the community_df data frame."
   ]
  },
  {
   "cell_type": "code",
   "execution_count": null,
   "id": "164e2831",
   "metadata": {},
   "outputs": [],
   "source": [
    "community_df['average_clustering_coefficient'] = (\n",
    "    community_df['subgraph'].map(lambda x: gds.localClusteringCoefficient.stats(x)['averageClusteringCoefficient']))"
   ]
  },
  {
   "cell_type": "code",
   "execution_count": null,
   "id": "7a21fb8a",
   "metadata": {},
   "outputs": [],
   "source": [
    "community_df"
   ]
  },
  {
   "cell_type": "markdown",
   "id": "7f9b10dd",
   "metadata": {},
   "source": [
    "Plot the clustering coefficient versus cluster size. In general, it seems that larger clusters tend to also have a higher clustering coefficient."
   ]
  },
  {
   "cell_type": "code",
   "execution_count": null,
   "id": "b9452a01",
   "metadata": {},
   "outputs": [],
   "source": [
    "sns.scatterplot(x=\"node_count\", y=\"average_clustering_coefficient\", hue=\"community_property\", data=community_df)"
   ]
  },
  {
   "cell_type": "markdown",
   "id": "2a0afdd7",
   "metadata": {},
   "source": [
    "# What is a good example of a member of each cluster?"
   ]
  },
  {
   "cell_type": "markdown",
   "id": "5e05991c",
   "metadata": {},
   "source": [
    "Write a function that applies a centrality score to a subgraph and gets back the top few airports IDs and the average degree centrality for the cluster."
   ]
  },
  {
   "cell_type": "code",
   "execution_count": null,
   "id": "7bf5e74a",
   "metadata": {},
   "outputs": [],
   "source": [
    "def get_central_airports(row):\n",
    "    subgraph_name = row['subgraph'].name()\n",
    "    top_airport_df = gds.run_cypher(\"\"\"\n",
    "    call gds.degree.stream($subgraphName) yield nodeId, score\n",
    "    WITH gds.util.asNode(nodeId) as a, score\n",
    "    ORDER BY score desc\n",
    "    RETURN collect(a.descr)[..3] as airportDescription, avg(score) as averageDegree\n",
    "    \"\"\", {\"subgraphName\": subgraph_name})\n",
    "    return top_airport_df.iloc[0].tolist()"
   ]
  },
  {
   "cell_type": "code",
   "execution_count": null,
   "id": "ee0e71d1",
   "metadata": {},
   "outputs": [],
   "source": [
    "centrality_df = community_df.apply(get_central_airports, axis=1, result_type='expand')"
   ]
  },
  {
   "cell_type": "code",
   "execution_count": null,
   "id": "ae1969c0",
   "metadata": {},
   "outputs": [],
   "source": [
    "centrality_df.columns = ['central_airports', 'average_degree']"
   ]
  },
  {
   "cell_type": "code",
   "execution_count": null,
   "id": "b0dfc7eb",
   "metadata": {},
   "outputs": [],
   "source": [
    "community_df = pd.concat([community_df, centrality_df], axis=1)"
   ]
  },
  {
   "cell_type": "code",
   "execution_count": null,
   "id": "c0509e25",
   "metadata": {
    "scrolled": false
   },
   "outputs": [],
   "source": [
    "community_df"
   ]
  },
  {
   "cell_type": "markdown",
   "id": "8b43c7a2",
   "metadata": {},
   "source": [
    "## Summarize properties of the clusters"
   ]
  },
  {
   "cell_type": "code",
   "execution_count": null,
   "id": "c2e56146",
   "metadata": {},
   "outputs": [],
   "source": [
    "def get_continent_percent(community_property):\n",
    "    continent_df = gds.run_cypher(f\"\"\"MATCH (a:ConnectedAirport)-[:ON_CONTINENT]->(c)\n",
    "    WITH a.{community_property} as community, c.name as continent, count(*) as airportCount\n",
    "    WITH community, collect(continent) as continents, collect(airportCount) as counts, \n",
    "    sum(airportCount) as totalAirports\n",
    "    UNWIND range(0, size(continents) - 1) as i\n",
    "    RETURN community,  continents[i] as continent, \n",
    "    round(100.0 * counts[i]/totalAirports, 1) as percent_on_continent\"\"\")\n",
    "    continent_df = continent_df.pivot(index=\"community\", columns=\"continent\", values =\"percent_on_continent\")\n",
    "    continent_df.reset_index(inplace=True)\n",
    "    continent_df.fillna(0, inplace=True)\n",
    "    continent_df['community_property'] = community_property\n",
    "    return continent_df"
   ]
  },
  {
   "cell_type": "code",
   "execution_count": null,
   "id": "52dc4731",
   "metadata": {},
   "outputs": [],
   "source": [
    "continent_dfs = [get_continent_percent(prop) for prop in community_properties]\n",
    "continent_df = pd.concat(continent_dfs)"
   ]
  },
  {
   "cell_type": "code",
   "execution_count": null,
   "id": "4ce7237e",
   "metadata": {},
   "outputs": [],
   "source": [
    "community_df = community_df.merge(continent_df, on=['community_property', 'community'])"
   ]
  },
  {
   "cell_type": "code",
   "execution_count": null,
   "id": "39082d3f",
   "metadata": {},
   "outputs": [],
   "source": [
    "community_df"
   ]
  },
  {
   "cell_type": "markdown",
   "id": "800435c6",
   "metadata": {},
   "source": [
    "## Clean up in-memory graphs"
   ]
  },
  {
   "cell_type": "code",
   "execution_count": null,
   "id": "9f2f7977",
   "metadata": {},
   "outputs": [],
   "source": [
    "for g in community_df['subgraph']:\n",
    "    gds.graph.drop(g)"
   ]
  },
  {
   "cell_type": "code",
   "execution_count": null,
   "id": "df720c72",
   "metadata": {},
   "outputs": [],
   "source": [
    "community_df.drop('subgraph', axis=1, inplace=True)"
   ]
  },
  {
   "cell_type": "code",
   "execution_count": null,
   "id": "c9ea0374",
   "metadata": {},
   "outputs": [],
   "source": [
    "gds.graph.drop(G_air)"
   ]
  },
  {
   "cell_type": "code",
   "execution_count": null,
   "id": "013933a7",
   "metadata": {},
   "outputs": [],
   "source": [
    "gds.graph.list()"
   ]
  },
  {
   "cell_type": "code",
   "execution_count": null,
   "id": "3b537dc7",
   "metadata": {},
   "outputs": [],
   "source": []
  }
 ],
 "metadata": {
  "kernelspec": {
   "display_name": "Python 3 (ipykernel)",
   "language": "python",
   "name": "python3"
  },
  "language_info": {
   "codemirror_mode": {
    "name": "ipython",
    "version": 3
   },
   "file_extension": ".py",
   "mimetype": "text/x-python",
   "name": "python",
   "nbconvert_exporter": "python",
   "pygments_lexer": "ipython3",
   "version": "3.8.13"
  }
 },
 "nbformat": 4,
 "nbformat_minor": 5
}
