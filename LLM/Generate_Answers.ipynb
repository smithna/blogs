{
 "cells": [
  {
   "cell_type": "code",
   "execution_count": 50,
   "id": "e823abf0-59e7-4544-a2c7-90d4bd37edd7",
   "metadata": {},
   "outputs": [],
   "source": [
    "import openai\n",
    "import pandas as pd\n",
    "from neo4j import GraphDatabase\n",
    "from getpass import getpass\n",
    "import json"
   ]
  },
  {
   "cell_type": "code",
   "execution_count": 4,
   "id": "2f5bab42-e1d2-44fd-b9d7-b3728f0ef0d8",
   "metadata": {},
   "outputs": [
    {
     "name": "stdin",
     "output_type": "stream",
     "text": [
      " ········\n"
     ]
    }
   ],
   "source": [
    "openai_key = getpass()"
   ]
  },
  {
   "cell_type": "code",
   "execution_count": 27,
   "id": "28ebb413-d46a-4360-b2f9-9cbb95eb21a7",
   "metadata": {},
   "outputs": [
    {
     "name": "stdin",
     "output_type": "stream",
     "text": [
      " ········\n"
     ]
    }
   ],
   "source": [
    "neo4j_pwd = getpass()"
   ]
  },
  {
   "cell_type": "code",
   "execution_count": 7,
   "id": "3c69e154-de08-4209-8aa9-27baf8f59c20",
   "metadata": {},
   "outputs": [],
   "source": [
    "openai.api_key = openai_key"
   ]
  },
  {
   "cell_type": "code",
   "execution_count": 31,
   "id": "932ef33b-f4bb-4eb0-9ef5-2420961c1333",
   "metadata": {},
   "outputs": [],
   "source": [
    "bolt_uri = \"bolt://44.204.43.21:7687\"\n",
    "driver = GraphDatabase.driver(bolt_uri, auth=(\"neo4j\", neo4j_pwd))"
   ]
  },
  {
   "cell_type": "code",
   "execution_count": 87,
   "id": "cd40b04a-eafd-41b5-8543-fa92949d0b0b",
   "metadata": {},
   "outputs": [],
   "source": [
    "def get_cypher(question):\n",
    "    messages = [\n",
    "        {\"role\": \"system\", \"content\": \"You convert questions into Cypher queries for a Neo4j database\"},\n",
    "        {\"role\": \"user\", \"content\": \"What was the score team when Germany played Canada?\"},\n",
    "        {\"role\": \"assistant\", \"content\": \"MATCH (:Team {name: 'Germany'})-[sg:PLAYED_IN]->(match:Match)<-[sc:PLAYED_IN]-(:Team {name: 'Canada'}) RETURN sg.score AS GermanyScore, sc.score AS CanadaScore\"},\n",
    "        {\"role\": \"user\", \"content\": \"Which teams played against France?\"},\n",
    "        {\"role\": \"assistant\", \"content\": \"MATCH (:Team {name: 'France'})-[:PLAYED_IN]->()<-[:PLAYED_IN]-(t:Team) RETURN DISTINCT t.name AS teamName\"},\n",
    "        {\"role\": \"user\", \"content\": \"Which team scored the most goals against Sweden?\"},\n",
    "        {\"role\": \"assistant\", \"content\": \"MATCH (:Team {name: 'Sweden'})-[:PLAYED_IN]->(match:Match)<-[s:PLAYED_IN]-(t:Team) RETURN t.name AS teamName, s.score AS score ORDER BY s.score DESC LIMIT 1\"},\n",
    "        {\"role\": \"user\", \"content\": question}]\n",
    "    response = openai.ChatCompletion.create(\n",
    "        model=\"gpt-3.5-turbo\",\n",
    "        messages=messages\n",
    "    )\n",
    "    query = response['choices'][0]['message']['content']\n",
    "    return query"
   ]
  },
  {
   "cell_type": "code",
   "execution_count": 91,
   "id": "d85f90a4-eb79-4b12-b1d1-35793121230d",
   "metadata": {},
   "outputs": [],
   "source": [
    "def get_neo4j_records(query):\n",
    "    with driver.session() as session:\n",
    "        result = session.run(query)\n",
    "        records = [row.data() for row in result]\n",
    "    return records"
   ]
  },
  {
   "cell_type": "code",
   "execution_count": 105,
   "id": "210d3deb-afeb-4a5c-b04a-f3db580c3ea8",
   "metadata": {},
   "outputs": [],
   "source": [
    "def format_answer(records, question):\n",
    "    messages = [\n",
    "        {\"role\": \"system\", \"content\": f\"Use the JSON data provided by the user to answer to the question.\"},\n",
    "        {\"role\": \"user\", \"content\": \"Question: Which team scored the fewest goals against Japan? JSON: [{'teamName': 'Switzerland', 'score': 0}]\"},\n",
    "        {\"role\": \"assistant\", \"content\": \"Switzerland scored the fewest goals against Japan.\"},\n",
    "        {\"role\": \"user\", \"content\": \"What were the scores when Japan played Sweden? JSON: [{'JapanScore': 3, 'SwedenScore': 1}, {'JapanScore': 0, 'SwedenScore': 8}, {'JapanScore': 0, 'SwedenScore': 2}]\"},\n",
    "        {\"role\": \"assistant\", \"content\": \"The score when Japan played Sweden was as follows: \\n- Japan: 3, Sweden: 1\\n- Japan: 0, Sweden: 8,\\n- Japan: 0, Sweden: 2\"},\n",
    "        {\"role\": \"user\", \"content\": f\"{question} JSON:{json.dumps(records)}\"}]\n",
    "    response = openai.ChatCompletion.create(\n",
    "        model=\"gpt-3.5-turbo\",\n",
    "        messages=messages\n",
    "    )\n",
    "    answer = response['choices'][0]['message']['content'] \n",
    "    return answer"
   ]
  },
  {
   "cell_type": "code",
   "execution_count": 93,
   "id": "f5b7d2c0-895e-4952-94bc-fbea54384218",
   "metadata": {},
   "outputs": [],
   "source": [
    "def answer_question(question):\n",
    "    query = get_cypher(question)\n",
    "    print(f\"Running cypher to get data.\")\n",
    "    print(query)\n",
    "    records = get_neo4j_records(query)\n",
    "    print(f\"Found results.\")\n",
    "    print(records)\n",
    "    answer = format_answer(records, question)\n",
    "    print(answer)"
   ]
  },
  {
   "cell_type": "code",
   "execution_count": 106,
   "id": "ab4951fc-f3d0-4e17-a8e2-5fbe0f0658ff",
   "metadata": {},
   "outputs": [
    {
     "name": "stdout",
     "output_type": "stream",
     "text": [
      "Running cypher to get data.\n",
      "MATCH (:Team {name: 'Japan'})-[sg:PLAYED_IN]->(match:Match)<-[sc:PLAYED_IN]-(:Team {name: 'Sweden'}) RETURN sg.score AS JapanScore, sc.score AS SwedenScore\n",
      "Found results.\n",
      "[{'JapanScore': 3, 'SwedenScore': 1}, {'JapanScore': 0, 'SwedenScore': 8}, {'JapanScore': 0, 'SwedenScore': 2}]\n",
      "The score when Japan played Sweden were: \n",
      "\n",
      "- In the first match, Japan scored 3 goals and Sweden scored 1 goal.\n",
      "- In the second match, Japan scored 0 goals and Sweden scored 8 goals.\n",
      "- In the third match, Japan scored 0 goals and Sweden scored 2 goals.\n"
     ]
    }
   ],
   "source": [
    "answer_question(\"What was the score when Japan played Sweden?\")"
   ]
  },
  {
   "cell_type": "code",
   "execution_count": 112,
   "id": "8ae10ef1-79df-4756-a4e6-af4fef5762bf",
   "metadata": {},
   "outputs": [
    {
     "name": "stdout",
     "output_type": "stream",
     "text": [
      "Running cypher to get data.\n",
      "MATCH (:Team {name: 'Denmark'})-[sg:PLAYED_IN]->(match:Match)<-[sc:PLAYED_IN]-(:Team {name: 'Australia'})\n",
      "WITH sg.score AS DenmarkScore, sc.score AS AustraliaScore\n",
      "RETURN \n",
      "    CASE \n",
      "        WHEN DenmarkScore > AustraliaScore THEN 'Denmark'\n",
      "        WHEN DenmarkScore < AustraliaScore THEN 'Australia'\n",
      "        ELSE 'Tie'\n",
      "    END AS winner\n",
      "Found results.\n",
      "[{'winner': 'Denmark'}]\n",
      "Denmark won when they played against Australia.\n"
     ]
    }
   ],
   "source": [
    "answer_question(\"Who won when Denmark played Australia?\")"
   ]
  },
  {
   "cell_type": "code",
   "execution_count": 113,
   "id": "935748af-8e94-4811-8dbb-701deaf3920e",
   "metadata": {},
   "outputs": [
    {
     "name": "stdout",
     "output_type": "stream",
     "text": [
      "Running cypher to get data.\n",
      "MATCH (:Team {name: 'England'})-[sg:PLAYED_IN]->(match:Match)<-[ss:PLAYED_IN]-(:Team {name: 'Sweden'})\n",
      "RETURN sg.score - ss.score AS goalDifferential\n",
      "Found results.\n",
      "[{'goalDifferential': -1}]\n",
      "The goal differential when England played Sweden was -1 goal. This means that Sweden scored 1 more goal than England.\n"
     ]
    }
   ],
   "source": [
    "answer_question(\"What was the goal differential when England played Sweden?\")"
   ]
  },
  {
   "cell_type": "code",
   "execution_count": 114,
   "id": "8639a279-eb62-4bc8-b548-b5e65d35c66f",
   "metadata": {},
   "outputs": [
    {
     "name": "stdout",
     "output_type": "stream",
     "text": [
      "Running cypher to get data.\n",
      "MATCH (t:Team)-[s:PLAYED_IN]->(:Match)<-[s2:PLAYED_IN]-(:Team)\n",
      "WITH t, SUM(s.score - s2.score) AS goalDiff\n",
      "RETURN t.name AS teamName, goalDiff ORDER BY goalDiff DESC LIMIT 1\n",
      "Found results.\n",
      "[{'teamName': 'USA', 'goalDiff': 100}]\n",
      "The team with the best goal differential over all matches is USA with a goal differential of 100.\n"
     ]
    }
   ],
   "source": [
    "answer_question(\"Which team had the best goal differential over all matches?\")"
   ]
  },
  {
   "cell_type": "code",
   "execution_count": null,
   "id": "59d54116-915a-4257-a857-320f3d0c85f3",
   "metadata": {},
   "outputs": [],
   "source": []
  }
 ],
 "metadata": {
  "kernelspec": {
   "display_name": "ISED",
   "language": "python",
   "name": "ised"
  },
  "language_info": {
   "codemirror_mode": {
    "name": "ipython",
    "version": 3
   },
   "file_extension": ".py",
   "mimetype": "text/x-python",
   "name": "python",
   "nbconvert_exporter": "python",
   "pygments_lexer": "ipython3",
   "version": "3.10.11"
  }
 },
 "nbformat": 4,
 "nbformat_minor": 5
}
