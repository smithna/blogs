{
 "cells": [
  {
   "cell_type": "code",
   "execution_count": 1,
   "id": "738b8d64-8427-4f34-b26c-8c2f9c7f9c8a",
   "metadata": {
    "collapsed": true,
    "jupyter": {
     "outputs_hidden": true
    },
    "tags": []
   },
   "outputs": [
    {
     "name": "stdout",
     "output_type": "stream",
     "text": [
      "Requirement already satisfied: graphdatascience in ./opt/anaconda3/lib/python3.8/site-packages (1.0.0)\n",
      "Requirement already satisfied: neo4j<5.0,>=4.4.2 in ./opt/anaconda3/lib/python3.8/site-packages (from graphdatascience) (4.4.2)\n",
      "Requirement already satisfied: pandas<2.0,>=1.0 in ./opt/anaconda3/lib/python3.8/site-packages (from graphdatascience) (1.2.4)\n",
      "Requirement already satisfied: pytz in ./opt/anaconda3/lib/python3.8/site-packages (from neo4j<5.0,>=4.4.2->graphdatascience) (2021.1)\n",
      "Requirement already satisfied: python-dateutil>=2.7.3 in ./opt/anaconda3/lib/python3.8/site-packages (from pandas<2.0,>=1.0->graphdatascience) (2.8.1)\n",
      "Requirement already satisfied: numpy>=1.16.5 in ./opt/anaconda3/lib/python3.8/site-packages (from pandas<2.0,>=1.0->graphdatascience) (1.20.1)\n",
      "Requirement already satisfied: six>=1.5 in ./opt/anaconda3/lib/python3.8/site-packages (from python-dateutil>=2.7.3->pandas<2.0,>=1.0->graphdatascience) (1.15.0)\n"
     ]
    }
   ],
   "source": [
    "!pip install graphdatascience"
   ]
  },
  {
   "cell_type": "code",
   "execution_count": 2,
   "id": "e7a30547-88b6-44d1-9591-8e6dccecb21f",
   "metadata": {
    "collapsed": true,
    "jupyter": {
     "outputs_hidden": true
    },
    "tags": []
   },
   "outputs": [
    {
     "name": "stdout",
     "output_type": "stream",
     "text": [
      "Requirement already satisfied: emblaze in ./opt/anaconda3/lib/python3.8/site-packages (0.10.5)\n",
      "Requirement already satisfied: numpy>=1.19.5 in ./opt/anaconda3/lib/python3.8/site-packages (from emblaze) (1.20.1)\n",
      "Requirement already satisfied: eventlet>=0.33.0 in ./opt/anaconda3/lib/python3.8/site-packages (from emblaze) (0.33.0)\n",
      "Requirement already satisfied: pandas>=1.2.0 in ./opt/anaconda3/lib/python3.8/site-packages (from emblaze) (1.2.4)\n",
      "Requirement already satisfied: redis>=4.1.0 in ./opt/anaconda3/lib/python3.8/site-packages (from emblaze) (4.2.0)\n",
      "Requirement already satisfied: scikit-learn>=0.24.1 in ./opt/anaconda3/lib/python3.8/site-packages (from emblaze) (0.24.1)\n",
      "Requirement already satisfied: pillow>=8.2.0 in ./opt/anaconda3/lib/python3.8/site-packages (from emblaze) (8.2.0)\n",
      "Requirement already satisfied: flask-socketio>=5.1.1 in ./opt/anaconda3/lib/python3.8/site-packages (from emblaze) (5.1.1)\n",
      "Requirement already satisfied: numba>=0.53.1 in ./opt/anaconda3/lib/python3.8/site-packages (from emblaze) (0.53.1)\n",
      "Requirement already satisfied: colormath>=3.0.0 in ./opt/anaconda3/lib/python3.8/site-packages (from emblaze) (3.0.0)\n",
      "Requirement already satisfied: tqdm>=4.61.2 in ./opt/anaconda3/lib/python3.8/site-packages (from emblaze) (4.63.1)\n",
      "Requirement already satisfied: scipy>=1.6.0 in ./opt/anaconda3/lib/python3.8/site-packages (from emblaze) (1.6.2)\n",
      "Requirement already satisfied: flask>=1.1.2 in ./opt/anaconda3/lib/python3.8/site-packages (from emblaze) (1.1.2)\n",
      "Requirement already satisfied: redis-server>=6.0.9 in ./opt/anaconda3/lib/python3.8/site-packages (from emblaze) (6.0.9)\n",
      "Requirement already satisfied: ipywidgets>=7.0.0 in ./opt/anaconda3/lib/python3.8/site-packages (from emblaze) (7.6.3)\n",
      "Requirement already satisfied: affine>=2.3.0 in ./opt/anaconda3/lib/python3.8/site-packages (from emblaze) (2.3.1)\n",
      "Requirement already satisfied: umap-learn>=0.5.1 in ./opt/anaconda3/lib/python3.8/site-packages (from emblaze) (0.5.2)\n",
      "Requirement already satisfied: networkx>=2.0 in ./opt/anaconda3/lib/python3.8/site-packages (from colormath>=3.0.0->emblaze) (2.5)\n",
      "Requirement already satisfied: dnspython>=1.15.0 in ./opt/anaconda3/lib/python3.8/site-packages (from eventlet>=0.33.0->emblaze) (2.2.1)\n",
      "Requirement already satisfied: six>=1.10.0 in ./opt/anaconda3/lib/python3.8/site-packages (from eventlet>=0.33.0->emblaze) (1.15.0)\n",
      "Requirement already satisfied: greenlet>=0.3 in ./opt/anaconda3/lib/python3.8/site-packages (from eventlet>=0.33.0->emblaze) (1.0.0)\n",
      "Requirement already satisfied: itsdangerous>=0.24 in ./opt/anaconda3/lib/python3.8/site-packages (from flask>=1.1.2->emblaze) (1.1.0)\n",
      "Requirement already satisfied: click>=5.1 in ./opt/anaconda3/lib/python3.8/site-packages (from flask>=1.1.2->emblaze) (7.1.2)\n",
      "Requirement already satisfied: Jinja2>=2.10.1 in ./opt/anaconda3/lib/python3.8/site-packages (from flask>=1.1.2->emblaze) (2.11.3)\n",
      "Requirement already satisfied: Werkzeug>=0.15 in ./opt/anaconda3/lib/python3.8/site-packages (from flask>=1.1.2->emblaze) (1.0.1)\n",
      "Requirement already satisfied: python-socketio>=5.0.2 in ./opt/anaconda3/lib/python3.8/site-packages (from flask-socketio>=5.1.1->emblaze) (5.5.2)\n",
      "Requirement already satisfied: jupyterlab-widgets>=1.0.0 in ./opt/anaconda3/lib/python3.8/site-packages (from ipywidgets>=7.0.0->emblaze) (1.0.0)\n",
      "Requirement already satisfied: traitlets>=4.3.1 in ./opt/anaconda3/lib/python3.8/site-packages (from ipywidgets>=7.0.0->emblaze) (5.0.5)\n",
      "Requirement already satisfied: widgetsnbextension~=3.5.0 in ./opt/anaconda3/lib/python3.8/site-packages (from ipywidgets>=7.0.0->emblaze) (3.5.1)\n",
      "Requirement already satisfied: nbformat>=4.2.0 in ./opt/anaconda3/lib/python3.8/site-packages (from ipywidgets>=7.0.0->emblaze) (5.1.3)\n",
      "Requirement already satisfied: ipykernel>=4.5.1 in ./opt/anaconda3/lib/python3.8/site-packages (from ipywidgets>=7.0.0->emblaze) (5.3.4)\n",
      "Requirement already satisfied: ipython>=4.0.0 in ./opt/anaconda3/lib/python3.8/site-packages (from ipywidgets>=7.0.0->emblaze) (7.22.0)\n",
      "Requirement already satisfied: tornado>=4.2 in ./opt/anaconda3/lib/python3.8/site-packages (from ipykernel>=4.5.1->ipywidgets>=7.0.0->emblaze) (6.1)\n",
      "Requirement already satisfied: jupyter-client in ./opt/anaconda3/lib/python3.8/site-packages (from ipykernel>=4.5.1->ipywidgets>=7.0.0->emblaze) (6.1.12)\n",
      "Requirement already satisfied: appnope in ./opt/anaconda3/lib/python3.8/site-packages (from ipykernel>=4.5.1->ipywidgets>=7.0.0->emblaze) (0.1.2)\n",
      "Requirement already satisfied: decorator in ./opt/anaconda3/lib/python3.8/site-packages (from ipython>=4.0.0->ipywidgets>=7.0.0->emblaze) (5.0.6)\n",
      "Requirement already satisfied: pexpect>4.3 in ./opt/anaconda3/lib/python3.8/site-packages (from ipython>=4.0.0->ipywidgets>=7.0.0->emblaze) (4.8.0)\n",
      "Requirement already satisfied: pickleshare in ./opt/anaconda3/lib/python3.8/site-packages (from ipython>=4.0.0->ipywidgets>=7.0.0->emblaze) (0.7.5)\n",
      "Requirement already satisfied: jedi>=0.16 in ./opt/anaconda3/lib/python3.8/site-packages (from ipython>=4.0.0->ipywidgets>=7.0.0->emblaze) (0.17.2)\n",
      "Requirement already satisfied: prompt-toolkit!=3.0.0,!=3.0.1,<3.1.0,>=2.0.0 in ./opt/anaconda3/lib/python3.8/site-packages (from ipython>=4.0.0->ipywidgets>=7.0.0->emblaze) (3.0.17)\n",
      "Requirement already satisfied: backcall in ./opt/anaconda3/lib/python3.8/site-packages (from ipython>=4.0.0->ipywidgets>=7.0.0->emblaze) (0.2.0)\n",
      "Requirement already satisfied: pygments in ./opt/anaconda3/lib/python3.8/site-packages (from ipython>=4.0.0->ipywidgets>=7.0.0->emblaze) (2.8.1)\n",
      "Requirement already satisfied: setuptools>=18.5 in ./opt/anaconda3/lib/python3.8/site-packages (from ipython>=4.0.0->ipywidgets>=7.0.0->emblaze) (52.0.0.post20210125)\n",
      "Requirement already satisfied: parso<0.8.0,>=0.7.0 in ./opt/anaconda3/lib/python3.8/site-packages (from jedi>=0.16->ipython>=4.0.0->ipywidgets>=7.0.0->emblaze) (0.7.0)\n",
      "Requirement already satisfied: MarkupSafe>=0.23 in ./opt/anaconda3/lib/python3.8/site-packages (from Jinja2>=2.10.1->flask>=1.1.2->emblaze) (1.1.1)\n",
      "Requirement already satisfied: ipython-genutils in ./opt/anaconda3/lib/python3.8/site-packages (from nbformat>=4.2.0->ipywidgets>=7.0.0->emblaze) (0.2.0)\n",
      "Requirement already satisfied: jupyter-core in ./opt/anaconda3/lib/python3.8/site-packages (from nbformat>=4.2.0->ipywidgets>=7.0.0->emblaze) (4.7.1)\n",
      "Requirement already satisfied: jsonschema!=2.5.0,>=2.4 in ./opt/anaconda3/lib/python3.8/site-packages (from nbformat>=4.2.0->ipywidgets>=7.0.0->emblaze) (3.2.0)\n",
      "Requirement already satisfied: pyrsistent>=0.14.0 in ./opt/anaconda3/lib/python3.8/site-packages (from jsonschema!=2.5.0,>=2.4->nbformat>=4.2.0->ipywidgets>=7.0.0->emblaze) (0.17.3)\n",
      "Requirement already satisfied: attrs>=17.4.0 in ./opt/anaconda3/lib/python3.8/site-packages (from jsonschema!=2.5.0,>=2.4->nbformat>=4.2.0->ipywidgets>=7.0.0->emblaze) (20.3.0)\n",
      "Requirement already satisfied: llvmlite<0.37,>=0.36.0rc1 in ./opt/anaconda3/lib/python3.8/site-packages (from numba>=0.53.1->emblaze) (0.36.0)\n",
      "Requirement already satisfied: python-dateutil>=2.7.3 in ./opt/anaconda3/lib/python3.8/site-packages (from pandas>=1.2.0->emblaze) (2.8.1)\n",
      "Requirement already satisfied: pytz>=2017.3 in ./opt/anaconda3/lib/python3.8/site-packages (from pandas>=1.2.0->emblaze) (2021.1)\n",
      "Requirement already satisfied: ptyprocess>=0.5 in ./opt/anaconda3/lib/python3.8/site-packages (from pexpect>4.3->ipython>=4.0.0->ipywidgets>=7.0.0->emblaze) (0.7.0)\n",
      "Requirement already satisfied: wcwidth in ./opt/anaconda3/lib/python3.8/site-packages (from prompt-toolkit!=3.0.0,!=3.0.1,<3.1.0,>=2.0.0->ipython>=4.0.0->ipywidgets>=7.0.0->emblaze) (0.2.5)\n",
      "Requirement already satisfied: bidict>=0.21.0 in ./opt/anaconda3/lib/python3.8/site-packages (from python-socketio>=5.0.2->flask-socketio>=5.1.1->emblaze) (0.22.0)\n",
      "Requirement already satisfied: python-engineio>=4.3.0 in ./opt/anaconda3/lib/python3.8/site-packages (from python-socketio>=5.0.2->flask-socketio>=5.1.1->emblaze) (4.3.1)\n",
      "Requirement already satisfied: async-timeout>=4.0.2 in ./opt/anaconda3/lib/python3.8/site-packages (from redis>=4.1.0->emblaze) (4.0.2)\n",
      "Requirement already satisfied: deprecated>=1.2.3 in ./opt/anaconda3/lib/python3.8/site-packages (from redis>=4.1.0->emblaze) (1.2.13)\n",
      "Requirement already satisfied: typing-extensions in ./opt/anaconda3/lib/python3.8/site-packages (from redis>=4.1.0->emblaze) (3.7.4.3)\n",
      "Requirement already satisfied: packaging>=20.4 in ./opt/anaconda3/lib/python3.8/site-packages (from redis>=4.1.0->emblaze) (20.9)\n",
      "Requirement already satisfied: wrapt<2,>=1.10 in ./opt/anaconda3/lib/python3.8/site-packages (from deprecated>=1.2.3->redis>=4.1.0->emblaze) (1.12.1)\n",
      "Requirement already satisfied: pyparsing>=2.0.2 in ./opt/anaconda3/lib/python3.8/site-packages (from packaging>=20.4->redis>=4.1.0->emblaze) (2.4.7)\n",
      "Requirement already satisfied: threadpoolctl>=2.0.0 in ./opt/anaconda3/lib/python3.8/site-packages (from scikit-learn>=0.24.1->emblaze) (2.1.0)\n",
      "Requirement already satisfied: joblib>=0.11 in ./opt/anaconda3/lib/python3.8/site-packages (from scikit-learn>=0.24.1->emblaze) (1.0.1)\n",
      "Requirement already satisfied: pynndescent>=0.5 in ./opt/anaconda3/lib/python3.8/site-packages (from umap-learn>=0.5.1->emblaze) (0.5.6)\n",
      "Requirement already satisfied: notebook>=4.4.1 in ./opt/anaconda3/lib/python3.8/site-packages (from widgetsnbextension~=3.5.0->ipywidgets>=7.0.0->emblaze) (6.3.0)\n",
      "Requirement already satisfied: pyzmq>=17 in ./opt/anaconda3/lib/python3.8/site-packages (from notebook>=4.4.1->widgetsnbextension~=3.5.0->ipywidgets>=7.0.0->emblaze) (20.0.0)\n",
      "Requirement already satisfied: prometheus-client in ./opt/anaconda3/lib/python3.8/site-packages (from notebook>=4.4.1->widgetsnbextension~=3.5.0->ipywidgets>=7.0.0->emblaze) (0.10.1)\n",
      "Requirement already satisfied: Send2Trash>=1.5.0 in ./opt/anaconda3/lib/python3.8/site-packages (from notebook>=4.4.1->widgetsnbextension~=3.5.0->ipywidgets>=7.0.0->emblaze) (1.5.0)\n",
      "Requirement already satisfied: nbconvert in ./opt/anaconda3/lib/python3.8/site-packages (from notebook>=4.4.1->widgetsnbextension~=3.5.0->ipywidgets>=7.0.0->emblaze) (6.0.7)\n",
      "Requirement already satisfied: argon2-cffi in ./opt/anaconda3/lib/python3.8/site-packages (from notebook>=4.4.1->widgetsnbextension~=3.5.0->ipywidgets>=7.0.0->emblaze) (20.1.0)\n",
      "Requirement already satisfied: terminado>=0.8.3 in ./opt/anaconda3/lib/python3.8/site-packages (from notebook>=4.4.1->widgetsnbextension~=3.5.0->ipywidgets>=7.0.0->emblaze) (0.9.4)\n",
      "Requirement already satisfied: cffi>=1.0.0 in ./opt/anaconda3/lib/python3.8/site-packages (from argon2-cffi->notebook>=4.4.1->widgetsnbextension~=3.5.0->ipywidgets>=7.0.0->emblaze) (1.14.5)\n",
      "Requirement already satisfied: pycparser in ./opt/anaconda3/lib/python3.8/site-packages (from cffi>=1.0.0->argon2-cffi->notebook>=4.4.1->widgetsnbextension~=3.5.0->ipywidgets>=7.0.0->emblaze) (2.20)\n",
      "Requirement already satisfied: mistune<2,>=0.8.1 in ./opt/anaconda3/lib/python3.8/site-packages (from nbconvert->notebook>=4.4.1->widgetsnbextension~=3.5.0->ipywidgets>=7.0.0->emblaze) (0.8.4)\n",
      "Requirement already satisfied: testpath in ./opt/anaconda3/lib/python3.8/site-packages (from nbconvert->notebook>=4.4.1->widgetsnbextension~=3.5.0->ipywidgets>=7.0.0->emblaze) (0.4.4)\n",
      "Requirement already satisfied: pandocfilters>=1.4.1 in ./opt/anaconda3/lib/python3.8/site-packages (from nbconvert->notebook>=4.4.1->widgetsnbextension~=3.5.0->ipywidgets>=7.0.0->emblaze) (1.4.3)\n",
      "Requirement already satisfied: defusedxml in ./opt/anaconda3/lib/python3.8/site-packages (from nbconvert->notebook>=4.4.1->widgetsnbextension~=3.5.0->ipywidgets>=7.0.0->emblaze) (0.7.1)\n",
      "Requirement already satisfied: jupyterlab-pygments in ./opt/anaconda3/lib/python3.8/site-packages (from nbconvert->notebook>=4.4.1->widgetsnbextension~=3.5.0->ipywidgets>=7.0.0->emblaze) (0.1.2)\n",
      "Requirement already satisfied: entrypoints>=0.2.2 in ./opt/anaconda3/lib/python3.8/site-packages (from nbconvert->notebook>=4.4.1->widgetsnbextension~=3.5.0->ipywidgets>=7.0.0->emblaze) (0.3)\n",
      "Requirement already satisfied: nbclient<0.6.0,>=0.5.0 in ./opt/anaconda3/lib/python3.8/site-packages (from nbconvert->notebook>=4.4.1->widgetsnbextension~=3.5.0->ipywidgets>=7.0.0->emblaze) (0.5.3)\n",
      "Requirement already satisfied: bleach in ./opt/anaconda3/lib/python3.8/site-packages (from nbconvert->notebook>=4.4.1->widgetsnbextension~=3.5.0->ipywidgets>=7.0.0->emblaze) (3.3.0)\n",
      "Requirement already satisfied: async-generator in ./opt/anaconda3/lib/python3.8/site-packages (from nbclient<0.6.0,>=0.5.0->nbconvert->notebook>=4.4.1->widgetsnbextension~=3.5.0->ipywidgets>=7.0.0->emblaze) (1.10)\n",
      "Requirement already satisfied: nest-asyncio in ./opt/anaconda3/lib/python3.8/site-packages (from nbclient<0.6.0,>=0.5.0->nbconvert->notebook>=4.4.1->widgetsnbextension~=3.5.0->ipywidgets>=7.0.0->emblaze) (1.5.1)\n",
      "Requirement already satisfied: webencodings in ./opt/anaconda3/lib/python3.8/site-packages (from bleach->nbconvert->notebook>=4.4.1->widgetsnbextension~=3.5.0->ipywidgets>=7.0.0->emblaze) (0.5.1)\n"
     ]
    }
   ],
   "source": [
    "!pip install emblaze"
   ]
  },
  {
   "cell_type": "code",
   "execution_count": 3,
   "id": "7b07448b-1162-4465-bfb5-15ad823469b1",
   "metadata": {},
   "outputs": [],
   "source": [
    "from graphdatascience import GraphDataScience\n",
    "import pandas as pd\n",
    "import numpy as np\n",
    "import emblaze"
   ]
  },
  {
   "cell_type": "markdown",
   "id": "d071e1ba-3d74-498d-8fb8-ec0a41c69e14",
   "metadata": {},
   "source": [
    "Before running this notebook, set up a free Neo4j sandbox at https://sandbox.neo4j.com/.\n",
    "\n",
    "Choose the data science project when you create your sandbox.\n",
    "\n",
    "Copy the Bolt URL and password from your sandbox connection information into the cell below."
   ]
  },
  {
   "cell_type": "code",
   "execution_count": 4,
   "id": "42b17278-cc2a-4b36-b1a5-0ce6f8bad22f",
   "metadata": {},
   "outputs": [],
   "source": [
    "bolt_url = \"bolt://44.198.160.170:7687\"\n",
    "user = \"neo4j\"\n",
    "password = \"specifications-lifeboats-jacket\"\n",
    "gds = GraphDataScience(bolt_url, auth=(user, password))"
   ]
  },
  {
   "cell_type": "markdown",
   "id": "9091ca84-4502-4284-9932-8f36d3c1e287",
   "metadata": {},
   "source": [
    "Add a weight property to the HAS_ROUTE relationships that will have a higher value for airports that are geographically closer together."
   ]
  },
  {
   "cell_type": "code",
   "execution_count": 5,
   "id": "6a9de5da-fbd7-44fc-9a7d-9638880c4e3f",
   "metadata": {},
   "outputs": [
    {
     "data": {
      "text/html": [
       "<div>\n",
       "<style scoped>\n",
       "    .dataframe tbody tr th:only-of-type {\n",
       "        vertical-align: middle;\n",
       "    }\n",
       "\n",
       "    .dataframe tbody tr th {\n",
       "        vertical-align: top;\n",
       "    }\n",
       "\n",
       "    .dataframe thead th {\n",
       "        text-align: right;\n",
       "    }\n",
       "</style>\n",
       "<table border=\"1\" class=\"dataframe\">\n",
       "  <thead>\n",
       "    <tr style=\"text-align: right;\">\n",
       "      <th></th>\n",
       "    </tr>\n",
       "  </thead>\n",
       "  <tbody>\n",
       "  </tbody>\n",
       "</table>\n",
       "</div>"
      ],
      "text/plain": [
       "Empty DataFrame\n",
       "Columns: []\n",
       "Index: []"
      ]
     },
     "execution_count": 5,
     "metadata": {},
     "output_type": "execute_result"
    }
   ],
   "source": [
    "gds.run_cypher(\"\"\"\n",
    "    match (:Airport)-[r:HAS_ROUTE]->(:Airport)\n",
    "    with collect(r) as routes, max(r.distance) as maxDistance\n",
    "    foreach(route in routes | set route.weight = maxDistance + 1 - route.distance)\n",
    "\"\"\")"
   ]
  },
  {
   "cell_type": "markdown",
   "id": "6ac70399-511b-4fbf-8688-fe1d7c23fdee",
   "metadata": {},
   "source": [
    "Project an in-memory graph containing Airport nodes connected by HAS_ROUTE relationships."
   ]
  },
  {
   "cell_type": "code",
   "execution_count": 6,
   "id": "e6edde6f-2c5c-4d1b-9b56-db2ceb06e3ef",
   "metadata": {},
   "outputs": [],
   "source": [
    "G_routes, result = gds.graph.project(\"air-routes\", \"Airport\", \n",
    "                                     {\"HAS_ROUTE\":{\"orientation\":\"UNDIRECTED\",\n",
    "                                                   \"aggregation\":\"MAX\"}}, \n",
    "                                      relationshipProperties = \"weight\")"
   ]
  },
  {
   "cell_type": "code",
   "execution_count": 7,
   "id": "b3848e8e-be25-42b9-806e-ed532fcc4062",
   "metadata": {},
   "outputs": [
    {
     "data": {
      "text/plain": [
       "nodeProjection            {'Airport': {'label': 'Airport', 'properties':...\n",
       "relationshipProjection    {'HAS_ROUTE': {'orientation': 'UNDIRECTED', 'a...\n",
       "graphName                                                        air-routes\n",
       "nodeCount                                                              3503\n",
       "relationshipCount                                                     49476\n",
       "projectMillis                                                           303\n",
       "Name: 0, dtype: object"
      ]
     },
     "execution_count": 7,
     "metadata": {},
     "output_type": "execute_result"
    }
   ],
   "source": [
    "result"
   ]
  },
  {
   "cell_type": "markdown",
   "id": "29b21bfc-bfd6-4b0e-bbda-82bffdb88585",
   "metadata": {},
   "source": [
    "Verify that the HAS_ROUTE relationships in the in-memory graph have a \"weight\" property."
   ]
  },
  {
   "cell_type": "code",
   "execution_count": 8,
   "id": "dd586dfe-617c-4363-a345-ed8b7a2fe41e",
   "metadata": {},
   "outputs": [
    {
     "data": {
      "text/plain": [
       "['weight']"
      ]
     },
     "execution_count": 8,
     "metadata": {},
     "output_type": "execute_result"
    }
   ],
   "source": [
    "G_routes.relationship_properties(\"HAS_ROUTE\")"
   ]
  },
  {
   "cell_type": "markdown",
   "id": "137a8148-ee52-471b-9be4-b01cb46c9602",
   "metadata": {},
   "source": [
    "Let's see how many weakly connected components are in the graph."
   ]
  },
  {
   "cell_type": "code",
   "execution_count": 9,
   "id": "b1c61ad9-6f66-44da-a030-5d9f253b4c83",
   "metadata": {},
   "outputs": [
    {
     "data": {
      "text/plain": [
       "componentCount                                                         212\n",
       "componentDistribution    {'p99': 1, 'min': 1, 'max': 3292, 'mean': 16.5...\n",
       "postProcessingMillis                                                     2\n",
       "preProcessingMillis                                                      0\n",
       "computeMillis                                                            4\n",
       "configuration            {'seedProperty': None, 'consecutiveIds': False...\n",
       "Name: 0, dtype: object"
      ]
     },
     "execution_count": 9,
     "metadata": {},
     "output_type": "execute_result"
    }
   ],
   "source": [
    "routes_wcc = gds.wcc.stats(G_routes)\n",
    "routes_wcc"
   ]
  },
  {
   "cell_type": "code",
   "execution_count": 10,
   "id": "0b5b91fb-b23a-49b3-a4b0-09be742539f5",
   "metadata": {},
   "outputs": [
    {
     "data": {
      "text/plain": [
       "{'p99': 1,\n",
       " 'min': 1,\n",
       " 'max': 3292,\n",
       " 'mean': 16.52358490566038,\n",
       " 'p90': 1,\n",
       " 'p50': 1,\n",
       " 'p999': 3292,\n",
       " 'p95': 1,\n",
       " 'p75': 1}"
      ]
     },
     "execution_count": 10,
     "metadata": {},
     "output_type": "execute_result"
    }
   ],
   "source": [
    "routes_wcc['componentDistribution']"
   ]
  },
  {
   "cell_type": "markdown",
   "id": "0b51d4af-65a0-469f-bdae-a2ac0eebeb86",
   "metadata": {},
   "source": [
    "It looks like we have a lot of isolated nodes (component size 1.) Add a componentId property for the wcc component to the in-memory graph."
   ]
  },
  {
   "cell_type": "code",
   "execution_count": 11,
   "id": "d7d50681-1f3d-42cf-8029-6fee54a1562f",
   "metadata": {},
   "outputs": [
    {
     "data": {
      "text/plain": [
       "mutateMillis                                                             0\n",
       "nodePropertiesWritten                                                 3503\n",
       "componentCount                                                         212\n",
       "componentDistribution    {'p99': 1, 'min': 1, 'max': 3292, 'mean': 16.5...\n",
       "postProcessingMillis                                                     2\n",
       "preProcessingMillis                                                      0\n",
       "computeMillis                                                            4\n",
       "configuration            {'seedProperty': None, 'consecutiveIds': False...\n",
       "Name: 0, dtype: object"
      ]
     },
     "execution_count": 11,
     "metadata": {},
     "output_type": "execute_result"
    }
   ],
   "source": [
    "gds.wcc.mutate(G_routes, mutateProperty = 'componentId')"
   ]
  },
  {
   "cell_type": "markdown",
   "id": "32a245a7-4351-4c9e-b881-0cbf74dbc2d9",
   "metadata": {},
   "source": [
    "Write the in-memory property out to the graph on disk."
   ]
  },
  {
   "cell_type": "code",
   "execution_count": 12,
   "id": "3aae867e-23b9-41d9-92df-32d467d9bdf9",
   "metadata": {},
   "outputs": [
    {
     "data": {
      "text/plain": [
       "writeMillis                     24\n",
       "graphName               air-routes\n",
       "nodeProperties       [componentId]\n",
       "propertiesWritten             3503\n",
       "Name: 0, dtype: object"
      ]
     },
     "execution_count": 12,
     "metadata": {},
     "output_type": "execute_result"
    }
   ],
   "source": [
    "gds.graph.writeNodeProperties(G_routes, ['componentId'])"
   ]
  },
  {
   "cell_type": "markdown",
   "id": "3d169351-e910-4aba-a386-bfe3199edb37",
   "metadata": {},
   "source": [
    "Get the componentId that contains most of the nodes (the giant component)."
   ]
  },
  {
   "cell_type": "code",
   "execution_count": 13,
   "id": "04a16784-b02b-42df-833b-2378718b87c5",
   "metadata": {},
   "outputs": [
    {
     "data": {
      "text/html": [
       "<div>\n",
       "<style scoped>\n",
       "    .dataframe tbody tr th:only-of-type {\n",
       "        vertical-align: middle;\n",
       "    }\n",
       "\n",
       "    .dataframe tbody tr th {\n",
       "        vertical-align: top;\n",
       "    }\n",
       "\n",
       "    .dataframe thead th {\n",
       "        text-align: right;\n",
       "    }\n",
       "</style>\n",
       "<table border=\"1\" class=\"dataframe\">\n",
       "  <thead>\n",
       "    <tr style=\"text-align: right;\">\n",
       "      <th></th>\n",
       "      <th>componentId</th>\n",
       "      <th>nodeCount</th>\n",
       "    </tr>\n",
       "  </thead>\n",
       "  <tbody>\n",
       "    <tr>\n",
       "      <th>0</th>\n",
       "      <td>0</td>\n",
       "      <td>3292</td>\n",
       "    </tr>\n",
       "  </tbody>\n",
       "</table>\n",
       "</div>"
      ],
      "text/plain": [
       "   componentId  nodeCount\n",
       "0            0       3292"
      ]
     },
     "execution_count": 13,
     "metadata": {},
     "output_type": "execute_result"
    }
   ],
   "source": [
    "gds.run_cypher(\"MATCH (a:Airport) RETURN a.componentId as componentId, count(*) as nodeCount ORDER BY count(*) DESC limit 1\")"
   ]
  },
  {
   "cell_type": "markdown",
   "id": "7fb4d8d1-0ff6-408b-9607-f220151245e6",
   "metadata": {},
   "source": [
    "Project a subgraph that contains only Airports in the giant component."
   ]
  },
  {
   "cell_type": "code",
   "execution_count": 14,
   "id": "7e75cfa1-3be2-45e0-9f7c-6640c1a8a266",
   "metadata": {},
   "outputs": [],
   "source": [
    "G_connected_airports, result = gds.beta.graph.project.subgraph(\"connected-airports\", G_routes, \"n.componentId = 0\", \"*\")"
   ]
  },
  {
   "cell_type": "markdown",
   "id": "2d4b1568-eae7-4899-9118-a9ceba6e87ed",
   "metadata": {},
   "source": [
    "Confirm that the number of nodes in the subgraph is 3,292, the same as in the maximum component size from the wcc stats."
   ]
  },
  {
   "cell_type": "code",
   "execution_count": 15,
   "id": "77893fd9-73b1-4c9b-a928-560396953317",
   "metadata": {},
   "outputs": [
    {
     "data": {
      "text/plain": [
       "3292"
      ]
     },
     "execution_count": 15,
     "metadata": {},
     "output_type": "execute_result"
    }
   ],
   "source": [
    "G_connected_airports.node_count()"
   ]
  },
  {
   "cell_type": "markdown",
   "id": "86b5a622-3050-42d7-b68a-be5ca49f6455",
   "metadata": {},
   "source": [
    "Write a function that adds a fastRP embedding of dimension 64 with some keyward arguments to the in-memory graph."
   ]
  },
  {
   "cell_type": "code",
   "execution_count": 16,
   "id": "cc17565b-9823-4549-ab99-a8c8b234083f",
   "metadata": {},
   "outputs": [],
   "source": [
    "def train_fast_rp(graph, config):\n",
    "    result = gds.fastRP.mutate(\n",
    "        graph,\n",
    "        embeddingDimension = 64,\n",
    "        randomSeed = 45,\n",
    "        **config\n",
    "    )\n",
    "    return result"
   ]
  },
  {
   "cell_type": "markdown",
   "id": "cc766b00-875b-4473-b07d-927462f02366",
   "metadata": {},
   "source": [
    "Experiment with different values for the [iterationWeights property](https://neo4j.com/docs/graph-data-science/current/machine-learning/node-embeddings/fastrp/). The longer the list of values for this property, the more distantly related nodes can influence the embedding."
   ]
  },
  {
   "cell_type": "code",
   "execution_count": 17,
   "id": "194b42ec-26de-464c-80e7-7d8c088cab14",
   "metadata": {},
   "outputs": [],
   "source": [
    "configs = [{\"iterationWeights\": [1.0, 1.0], \"mutateProperty\": \"shallowUnweighted\"},\n",
    "           {\"iterationWeights\": [0.0, 1.0, 1.0], \"mutateProperty\": \"mediumUnweighted\"},\n",
    "           {\"iterationWeights\": [1.0, 1.0, 1.0, 1.0], \"mutateProperty\": \"deepUnweighted\"},\n",
    "           {\"iterationWeights\": [1.0, 1.0], \"relationshipWeightProperty\": \"weight\", \n",
    "            \"mutateProperty\": \"shallowWeighted\"},\n",
    "           {\"iterationWeights\": [0.0, 1.0, 1.0], \"relationshipWeightProperty\": \"weight\", \n",
    "            \"mutateProperty\": \"mediumWeighted\"},\n",
    "           {\"iterationWeights\": [1.0, 1.0, 1.0, 1.0], \"relationshipWeightProperty\": \"weight\", \n",
    "            \"mutateProperty\": \"deepWeighted\"}]                      "
   ]
  },
  {
   "cell_type": "markdown",
   "id": "6b6d9004-b5dd-40a4-8c07-e0b228efde7f",
   "metadata": {},
   "source": [
    "Call the embedding for each configuration and review the results."
   ]
  },
  {
   "cell_type": "code",
   "execution_count": 18,
   "id": "91b0b594-3cea-42cf-87b4-4fb403e1b8d1",
   "metadata": {},
   "outputs": [],
   "source": [
    "embedding_results = [train_fast_rp(G_connected_airports, config) for config in configs]"
   ]
  },
  {
   "cell_type": "code",
   "execution_count": 19,
   "id": "d7da0298-1ce8-40dc-a87f-da1e16a7f9bb",
   "metadata": {},
   "outputs": [
    {
     "data": {
      "text/html": [
       "<div>\n",
       "<style scoped>\n",
       "    .dataframe tbody tr th:only-of-type {\n",
       "        vertical-align: middle;\n",
       "    }\n",
       "\n",
       "    .dataframe tbody tr th {\n",
       "        vertical-align: top;\n",
       "    }\n",
       "\n",
       "    .dataframe thead th {\n",
       "        text-align: right;\n",
       "    }\n",
       "</style>\n",
       "<table border=\"1\" class=\"dataframe\">\n",
       "  <thead>\n",
       "    <tr style=\"text-align: right;\">\n",
       "      <th></th>\n",
       "      <th>nodePropertiesWritten</th>\n",
       "      <th>mutateMillis</th>\n",
       "      <th>nodeCount</th>\n",
       "      <th>preProcessingMillis</th>\n",
       "      <th>computeMillis</th>\n",
       "      <th>configuration</th>\n",
       "    </tr>\n",
       "  </thead>\n",
       "  <tbody>\n",
       "    <tr>\n",
       "      <th>0</th>\n",
       "      <td>3292</td>\n",
       "      <td>0</td>\n",
       "      <td>3292</td>\n",
       "      <td>0</td>\n",
       "      <td>14</td>\n",
       "      <td>{'nodeSelfInfluence': 0, 'relationshipWeightPr...</td>\n",
       "    </tr>\n",
       "    <tr>\n",
       "      <th>0</th>\n",
       "      <td>3292</td>\n",
       "      <td>0</td>\n",
       "      <td>3292</td>\n",
       "      <td>0</td>\n",
       "      <td>19</td>\n",
       "      <td>{'nodeSelfInfluence': 0, 'relationshipWeightPr...</td>\n",
       "    </tr>\n",
       "    <tr>\n",
       "      <th>0</th>\n",
       "      <td>3292</td>\n",
       "      <td>0</td>\n",
       "      <td>3292</td>\n",
       "      <td>0</td>\n",
       "      <td>22</td>\n",
       "      <td>{'nodeSelfInfluence': 0, 'relationshipWeightPr...</td>\n",
       "    </tr>\n",
       "    <tr>\n",
       "      <th>0</th>\n",
       "      <td>3292</td>\n",
       "      <td>0</td>\n",
       "      <td>3292</td>\n",
       "      <td>0</td>\n",
       "      <td>127</td>\n",
       "      <td>{'nodeSelfInfluence': 0, 'relationshipWeightPr...</td>\n",
       "    </tr>\n",
       "    <tr>\n",
       "      <th>0</th>\n",
       "      <td>3292</td>\n",
       "      <td>0</td>\n",
       "      <td>3292</td>\n",
       "      <td>0</td>\n",
       "      <td>256</td>\n",
       "      <td>{'nodeSelfInfluence': 0, 'relationshipWeightPr...</td>\n",
       "    </tr>\n",
       "    <tr>\n",
       "      <th>0</th>\n",
       "      <td>3292</td>\n",
       "      <td>0</td>\n",
       "      <td>3292</td>\n",
       "      <td>0</td>\n",
       "      <td>272</td>\n",
       "      <td>{'nodeSelfInfluence': 0, 'relationshipWeightPr...</td>\n",
       "    </tr>\n",
       "  </tbody>\n",
       "</table>\n",
       "</div>"
      ],
      "text/plain": [
       "   nodePropertiesWritten  mutateMillis  nodeCount  preProcessingMillis  \\\n",
       "0                   3292             0       3292                    0   \n",
       "0                   3292             0       3292                    0   \n",
       "0                   3292             0       3292                    0   \n",
       "0                   3292             0       3292                    0   \n",
       "0                   3292             0       3292                    0   \n",
       "0                   3292             0       3292                    0   \n",
       "\n",
       "   computeMillis                                      configuration  \n",
       "0             14  {'nodeSelfInfluence': 0, 'relationshipWeightPr...  \n",
       "0             19  {'nodeSelfInfluence': 0, 'relationshipWeightPr...  \n",
       "0             22  {'nodeSelfInfluence': 0, 'relationshipWeightPr...  \n",
       "0            127  {'nodeSelfInfluence': 0, 'relationshipWeightPr...  \n",
       "0            256  {'nodeSelfInfluence': 0, 'relationshipWeightPr...  \n",
       "0            272  {'nodeSelfInfluence': 0, 'relationshipWeightPr...  "
      ]
     },
     "execution_count": 19,
     "metadata": {},
     "output_type": "execute_result"
    }
   ],
   "source": [
    "pd.DataFrame(embedding_results)"
   ]
  },
  {
   "cell_type": "markdown",
   "id": "53982b8c-284c-4fb6-a918-b46ae8e93320",
   "metadata": {},
   "source": [
    "Stream the embedding values back from the in-memory graph and look up the airport description and continent."
   ]
  },
  {
   "cell_type": "code",
   "execution_count": 20,
   "id": "63edaafe-38f7-4cfd-939e-6afa4817ac37",
   "metadata": {},
   "outputs": [],
   "source": [
    "embedding_df = gds.run_cypher(\"\"\"\n",
    "    call gds.graph.streamNodeProperties(\"connected-airports\", \n",
    "        [\"shallowUnweighted\", \"mediumUnweighted\", \"deepUnweighted\", \"shallowWeighted\", \"mediumWeighted\", \"deepWeighted\"]) \n",
    "    yield nodeId, nodeProperty, propertyValue\n",
    "    WITH gds.util.asNode(nodeId) as a,\n",
    "    MAX(case when nodeProperty = \"shallowUnweighted\" then propertyValue end) as shallowUnweighted,\n",
    "    MAX(case when nodeProperty = \"mediumUnweighted\" then propertyValue end) as mediumUnweighted,\n",
    "    MAX(case when nodeProperty = \"deepUnweighted\" then propertyValue end) as deepUnweighted,\n",
    "    MAX(case when nodeProperty = \"shallowWeighted\" then propertyValue end) as shallowWeighted,\n",
    "    MAX(case when nodeProperty = \"mediumWeighted\" then propertyValue end) as mediumWeighted,\n",
    "    MAX(case when nodeProperty = \"deepWeighted\" then propertyValue end) as deepWeighted\n",
    "    MATCH (a)-[:ON_CONTINENT]->(c:Continent)\n",
    "    RETURN\n",
    "    a.descr as airport_name, \n",
    "    a.iata as airport_code, \n",
    "    c.name as continent,\n",
    "    shallowUnweighted,\n",
    "    mediumUnweighted,\n",
    "    deepUnweighted,\n",
    "    shallowWeighted,\n",
    "    mediumWeighted,\n",
    "    deepWeighted\n",
    "    ORDER BY size([(a)-[:HAS_ROUTE]-() | a]) DESC\n",
    "    LIMIT 900\n",
    "    \"\"\")"
   ]
  },
  {
   "cell_type": "code",
   "execution_count": 21,
   "id": "fa7bcb82-719b-48be-be26-c37c9494a308",
   "metadata": {},
   "outputs": [
    {
     "data": {
      "text/html": [
       "<div>\n",
       "<style scoped>\n",
       "    .dataframe tbody tr th:only-of-type {\n",
       "        vertical-align: middle;\n",
       "    }\n",
       "\n",
       "    .dataframe tbody tr th {\n",
       "        vertical-align: top;\n",
       "    }\n",
       "\n",
       "    .dataframe thead th {\n",
       "        text-align: right;\n",
       "    }\n",
       "</style>\n",
       "<table border=\"1\" class=\"dataframe\">\n",
       "  <thead>\n",
       "    <tr style=\"text-align: right;\">\n",
       "      <th></th>\n",
       "      <th>airport_name</th>\n",
       "      <th>airport_code</th>\n",
       "      <th>continent</th>\n",
       "      <th>shallowUnweighted</th>\n",
       "      <th>mediumUnweighted</th>\n",
       "      <th>deepUnweighted</th>\n",
       "      <th>shallowWeighted</th>\n",
       "      <th>mediumWeighted</th>\n",
       "      <th>deepWeighted</th>\n",
       "    </tr>\n",
       "  </thead>\n",
       "  <tbody>\n",
       "    <tr>\n",
       "      <th>0</th>\n",
       "      <td>Frankfurt am Main</td>\n",
       "      <td>FRA</td>\n",
       "      <td>EU</td>\n",
       "      <td>[-0.07399057596921921, 0.2620871663093567, 0.1...</td>\n",
       "      <td>[-0.11316736042499542, 0.24514061212539673, 0....</td>\n",
       "      <td>[-0.15192122757434845, 0.5060424208641052, 0.2...</td>\n",
       "      <td>[-0.19411295652389526, 0.2675624191761017, 0.2...</td>\n",
       "      <td>[-0.1977788209915161, 0.2508077621459961, 0.13...</td>\n",
       "      <td>[-0.36135566234588623, 0.5160863399505615, 0.3...</td>\n",
       "    </tr>\n",
       "    <tr>\n",
       "      <th>1</th>\n",
       "      <td>Paris Charles de Gaulle</td>\n",
       "      <td>CDG</td>\n",
       "      <td>EU</td>\n",
       "      <td>[-0.06564060598611832, 0.055160876363515854, 0...</td>\n",
       "      <td>[-0.11409448832273483, 0.21923694014549255, 0....</td>\n",
       "      <td>[-0.15566448867321014, 0.28849947452545166, 0....</td>\n",
       "      <td>[-0.15881961584091187, 0.0621316060423851, 0.2...</td>\n",
       "      <td>[-0.20260721445083618, 0.22906702756881714, 0....</td>\n",
       "      <td>[-0.3372170031070709, 0.30104851722717285, 0.3...</td>\n",
       "    </tr>\n",
       "    <tr>\n",
       "      <th>2</th>\n",
       "      <td>Istanbul International Airport</td>\n",
       "      <td>IST</td>\n",
       "      <td>EU</td>\n",
       "      <td>[0.026787318289279938, 0.2438107430934906, 0.1...</td>\n",
       "      <td>[-0.025942979380488396, 0.2735888957977295, 0....</td>\n",
       "      <td>[-0.0012168977409601212, 0.5254808664321899, 0...</td>\n",
       "      <td>[-0.0003005862236022949, 0.26281487941741943, ...</td>\n",
       "      <td>[-0.06701691448688507, 0.2827916741371155, 0.1...</td>\n",
       "      <td>[-0.07971426844596863, 0.5542945861816406, 0.3...</td>\n",
       "    </tr>\n",
       "    <tr>\n",
       "      <th>3</th>\n",
       "      <td>Amsterdam Airport Schiphol</td>\n",
       "      <td>AMS</td>\n",
       "      <td>EU</td>\n",
       "      <td>[-0.1855502426624298, 0.16803550720214844, 0.1...</td>\n",
       "      <td>[-0.16270774602890015, 0.2214188426733017, 0.1...</td>\n",
       "      <td>[-0.297057569026947, 0.40379035472869873, 0.24...</td>\n",
       "      <td>[-0.28153276443481445, 0.19925662875175476, 0....</td>\n",
       "      <td>[-0.2414441704750061, 0.22703152894973755, 0.1...</td>\n",
       "      <td>[-0.47922539710998535, 0.43863940238952637, 0....</td>\n",
       "    </tr>\n",
       "    <tr>\n",
       "      <th>4</th>\n",
       "      <td>Munich International Airport</td>\n",
       "      <td>MUC</td>\n",
       "      <td>EU</td>\n",
       "      <td>[-0.20580337941646576, 0.11519283056259155, 0....</td>\n",
       "      <td>[-0.16538169980049133, 0.2382025420665741, 0.1...</td>\n",
       "      <td>[-0.3348800837993622, 0.3535888195037842, 0.32...</td>\n",
       "      <td>[-0.29063165187835693, 0.13292333483695984, 0....</td>\n",
       "      <td>[-0.233033686876297, 0.24436715245246887, 0.15...</td>\n",
       "      <td>[-0.4940841495990753, 0.37679851055145264, 0.3...</td>\n",
       "    </tr>\n",
       "    <tr>\n",
       "      <th>...</th>\n",
       "      <td>...</td>\n",
       "      <td>...</td>\n",
       "      <td>...</td>\n",
       "      <td>...</td>\n",
       "      <td>...</td>\n",
       "      <td>...</td>\n",
       "      <td>...</td>\n",
       "      <td>...</td>\n",
       "      <td>...</td>\n",
       "    </tr>\n",
       "    <tr>\n",
       "      <th>895</th>\n",
       "      <td>Nanping Wuyishan Airport</td>\n",
       "      <td>WUS</td>\n",
       "      <td>AS</td>\n",
       "      <td>[-0.15465746819972992, -0.29468223452568054, -...</td>\n",
       "      <td>[-0.16766786575317383, -0.05741892755031586, -...</td>\n",
       "      <td>[-0.28116992115974426, -0.25400516390800476, -...</td>\n",
       "      <td>[-0.16491110622882843, -0.310563325881958, -0....</td>\n",
       "      <td>[-0.19777408242225647, -0.0949367955327034, -0...</td>\n",
       "      <td>[-0.33032694458961487, -0.3239209055900574, -0...</td>\n",
       "    </tr>\n",
       "    <tr>\n",
       "      <th>896</th>\n",
       "      <td>Scott AFB/Midamerica Airport</td>\n",
       "      <td>BLV</td>\n",
       "      <td>NA</td>\n",
       "      <td>[0.3646937608718872, 0.18155963718891144, -0.1...</td>\n",
       "      <td>[0.38825953006744385, 0.09397226572036743, -0....</td>\n",
       "      <td>[0.6421867609024048, 0.2155066579580307, -0.12...</td>\n",
       "      <td>[0.3598550856113434, 0.179595947265625, -0.126...</td>\n",
       "      <td>[0.38907772302627563, 0.08189046382904053, -0....</td>\n",
       "      <td>[0.6340279579162598, 0.1816011667251587, -0.09...</td>\n",
       "    </tr>\n",
       "    <tr>\n",
       "      <th>897</th>\n",
       "      <td>Canberra International Airport</td>\n",
       "      <td>CBR</td>\n",
       "      <td>OC</td>\n",
       "      <td>[0.0862639844417572, 0.5978029370307922, 0.028...</td>\n",
       "      <td>[0.18571466207504272, 0.6202242374420166, 0.07...</td>\n",
       "      <td>[0.1772807538509369, 1.2233781814575195, 0.106...</td>\n",
       "      <td>[0.04642222821712494, 0.528540849685669, 0.041...</td>\n",
       "      <td>[0.12939876317977905, 0.6064460277557373, 0.09...</td>\n",
       "      <td>[0.1165374219417572, 1.1702359914779663, 0.154...</td>\n",
       "    </tr>\n",
       "    <tr>\n",
       "      <th>898</th>\n",
       "      <td>Mangalore International Airport</td>\n",
       "      <td>IXE</td>\n",
       "      <td>AS</td>\n",
       "      <td>[0.0036581531167030334, 0.37329620122909546, 0...</td>\n",
       "      <td>[0.11747836321592331, 0.337380051612854, 0.131...</td>\n",
       "      <td>[0.08971487730741501, 0.7435741424560547, 0.12...</td>\n",
       "      <td>[-0.029092632234096527, 0.34626173973083496, 0...</td>\n",
       "      <td>[0.06642842292785645, 0.3237442374229431, 0.11...</td>\n",
       "      <td>[0.023804744705557823, 0.7144446969032288, 0.1...</td>\n",
       "    </tr>\n",
       "    <tr>\n",
       "      <th>899</th>\n",
       "      <td>Cherry Capital Airport</td>\n",
       "      <td>TVC</td>\n",
       "      <td>NA</td>\n",
       "      <td>[0.14239120483398438, 0.07686980068683624, 0.2...</td>\n",
       "      <td>[0.2795731723308563, 0.05664905160665512, 0.08...</td>\n",
       "      <td>[0.36861124634742737, 0.10893549770116806, 0.2...</td>\n",
       "      <td>[0.13504764437675476, 0.0393684059381485, 0.25...</td>\n",
       "      <td>[0.26504385471343994, 0.01004377193748951, 0.1...</td>\n",
       "      <td>[0.35544389486312866, 0.029853176325559616, 0....</td>\n",
       "    </tr>\n",
       "  </tbody>\n",
       "</table>\n",
       "<p>900 rows × 9 columns</p>\n",
       "</div>"
      ],
      "text/plain": [
       "                        airport_name airport_code continent  \\\n",
       "0                  Frankfurt am Main          FRA        EU   \n",
       "1            Paris Charles de Gaulle          CDG        EU   \n",
       "2     Istanbul International Airport          IST        EU   \n",
       "3         Amsterdam Airport Schiphol          AMS        EU   \n",
       "4       Munich International Airport          MUC        EU   \n",
       "..                               ...          ...       ...   \n",
       "895         Nanping Wuyishan Airport          WUS        AS   \n",
       "896     Scott AFB/Midamerica Airport          BLV        NA   \n",
       "897   Canberra International Airport          CBR        OC   \n",
       "898  Mangalore International Airport          IXE        AS   \n",
       "899           Cherry Capital Airport          TVC        NA   \n",
       "\n",
       "                                     shallowUnweighted  \\\n",
       "0    [-0.07399057596921921, 0.2620871663093567, 0.1...   \n",
       "1    [-0.06564060598611832, 0.055160876363515854, 0...   \n",
       "2    [0.026787318289279938, 0.2438107430934906, 0.1...   \n",
       "3    [-0.1855502426624298, 0.16803550720214844, 0.1...   \n",
       "4    [-0.20580337941646576, 0.11519283056259155, 0....   \n",
       "..                                                 ...   \n",
       "895  [-0.15465746819972992, -0.29468223452568054, -...   \n",
       "896  [0.3646937608718872, 0.18155963718891144, -0.1...   \n",
       "897  [0.0862639844417572, 0.5978029370307922, 0.028...   \n",
       "898  [0.0036581531167030334, 0.37329620122909546, 0...   \n",
       "899  [0.14239120483398438, 0.07686980068683624, 0.2...   \n",
       "\n",
       "                                      mediumUnweighted  \\\n",
       "0    [-0.11316736042499542, 0.24514061212539673, 0....   \n",
       "1    [-0.11409448832273483, 0.21923694014549255, 0....   \n",
       "2    [-0.025942979380488396, 0.2735888957977295, 0....   \n",
       "3    [-0.16270774602890015, 0.2214188426733017, 0.1...   \n",
       "4    [-0.16538169980049133, 0.2382025420665741, 0.1...   \n",
       "..                                                 ...   \n",
       "895  [-0.16766786575317383, -0.05741892755031586, -...   \n",
       "896  [0.38825953006744385, 0.09397226572036743, -0....   \n",
       "897  [0.18571466207504272, 0.6202242374420166, 0.07...   \n",
       "898  [0.11747836321592331, 0.337380051612854, 0.131...   \n",
       "899  [0.2795731723308563, 0.05664905160665512, 0.08...   \n",
       "\n",
       "                                        deepUnweighted  \\\n",
       "0    [-0.15192122757434845, 0.5060424208641052, 0.2...   \n",
       "1    [-0.15566448867321014, 0.28849947452545166, 0....   \n",
       "2    [-0.0012168977409601212, 0.5254808664321899, 0...   \n",
       "3    [-0.297057569026947, 0.40379035472869873, 0.24...   \n",
       "4    [-0.3348800837993622, 0.3535888195037842, 0.32...   \n",
       "..                                                 ...   \n",
       "895  [-0.28116992115974426, -0.25400516390800476, -...   \n",
       "896  [0.6421867609024048, 0.2155066579580307, -0.12...   \n",
       "897  [0.1772807538509369, 1.2233781814575195, 0.106...   \n",
       "898  [0.08971487730741501, 0.7435741424560547, 0.12...   \n",
       "899  [0.36861124634742737, 0.10893549770116806, 0.2...   \n",
       "\n",
       "                                       shallowWeighted  \\\n",
       "0    [-0.19411295652389526, 0.2675624191761017, 0.2...   \n",
       "1    [-0.15881961584091187, 0.0621316060423851, 0.2...   \n",
       "2    [-0.0003005862236022949, 0.26281487941741943, ...   \n",
       "3    [-0.28153276443481445, 0.19925662875175476, 0....   \n",
       "4    [-0.29063165187835693, 0.13292333483695984, 0....   \n",
       "..                                                 ...   \n",
       "895  [-0.16491110622882843, -0.310563325881958, -0....   \n",
       "896  [0.3598550856113434, 0.179595947265625, -0.126...   \n",
       "897  [0.04642222821712494, 0.528540849685669, 0.041...   \n",
       "898  [-0.029092632234096527, 0.34626173973083496, 0...   \n",
       "899  [0.13504764437675476, 0.0393684059381485, 0.25...   \n",
       "\n",
       "                                        mediumWeighted  \\\n",
       "0    [-0.1977788209915161, 0.2508077621459961, 0.13...   \n",
       "1    [-0.20260721445083618, 0.22906702756881714, 0....   \n",
       "2    [-0.06701691448688507, 0.2827916741371155, 0.1...   \n",
       "3    [-0.2414441704750061, 0.22703152894973755, 0.1...   \n",
       "4    [-0.233033686876297, 0.24436715245246887, 0.15...   \n",
       "..                                                 ...   \n",
       "895  [-0.19777408242225647, -0.0949367955327034, -0...   \n",
       "896  [0.38907772302627563, 0.08189046382904053, -0....   \n",
       "897  [0.12939876317977905, 0.6064460277557373, 0.09...   \n",
       "898  [0.06642842292785645, 0.3237442374229431, 0.11...   \n",
       "899  [0.26504385471343994, 0.01004377193748951, 0.1...   \n",
       "\n",
       "                                          deepWeighted  \n",
       "0    [-0.36135566234588623, 0.5160863399505615, 0.3...  \n",
       "1    [-0.3372170031070709, 0.30104851722717285, 0.3...  \n",
       "2    [-0.07971426844596863, 0.5542945861816406, 0.3...  \n",
       "3    [-0.47922539710998535, 0.43863940238952637, 0....  \n",
       "4    [-0.4940841495990753, 0.37679851055145264, 0.3...  \n",
       "..                                                 ...  \n",
       "895  [-0.33032694458961487, -0.3239209055900574, -0...  \n",
       "896  [0.6340279579162598, 0.1816011667251587, -0.09...  \n",
       "897  [0.1165374219417572, 1.1702359914779663, 0.154...  \n",
       "898  [0.023804744705557823, 0.7144446969032288, 0.1...  \n",
       "899  [0.35544389486312866, 0.029853176325559616, 0....  \n",
       "\n",
       "[900 rows x 9 columns]"
      ]
     },
     "execution_count": 21,
     "metadata": {},
     "output_type": "execute_result"
    }
   ],
   "source": [
    "embedding_df"
   ]
  },
  {
   "cell_type": "markdown",
   "id": "5faeb5d7-afc4-477f-8637-8a14ca7d18f3",
   "metadata": {},
   "source": [
    "Create Emblaze embeddings for each graph embedding. Compute the nearest neighbors and create a 2-dimensional projection using UMAP."
   ]
  },
  {
   "cell_type": "code",
   "execution_count": 28,
   "id": "55614bf7-937c-4565-aa70-1b522aadf289",
   "metadata": {},
   "outputs": [],
   "source": [
    "def create_emblaze_embedding(embedding_df, column):\n",
    "    emb = emblaze.Embedding({emblaze.Field.POSITION: np.array(list(embedding_df[column])),\n",
    "                             emblaze.Field.COLOR: embedding_df['continent']}, \n",
    "                             n_neighbors = 10,\n",
    "                             label=column, \n",
    "                             metric='cosine')\n",
    "    emb.compute_neighbors()\n",
    "    return emb.project()"
   ]
  },
  {
   "cell_type": "code",
   "execution_count": 29,
   "id": "4a99f00f-79e7-4520-8c64-077318e1a863",
   "metadata": {},
   "outputs": [],
   "source": [
    "emblaze_embeddings = [create_emblaze_embedding(embedding_df, column) for column in embedding_df.columns[3:]]"
   ]
  },
  {
   "cell_type": "markdown",
   "id": "570ab4be-66c0-4f23-b01f-4387be648481",
   "metadata": {},
   "source": [
    "Turn the list of embeddings into an embedding set."
   ]
  },
  {
   "cell_type": "code",
   "execution_count": 30,
   "id": "5bf2339a-868d-4248-91e6-5c9e7c831d61",
   "metadata": {},
   "outputs": [],
   "source": [
    "variants = emblaze.EmbeddingSet(emblaze_embeddings)"
   ]
  },
  {
   "cell_type": "markdown",
   "id": "85a2d98b-13c7-43b0-838a-47daae481240",
   "metadata": {},
   "source": [
    "Create descriptions for each point in the visualization."
   ]
  },
  {
   "cell_type": "code",
   "execution_count": 31,
   "id": "566e06fb-79a2-4834-ad8b-cc1b916562f5",
   "metadata": {},
   "outputs": [],
   "source": [
    "thumbnails = emblaze.TextsThumbnails(embedding_df['airport_name'] + \" (\" + embedding_df['airport_code'] + \")\")"
   ]
  },
  {
   "cell_type": "markdown",
   "id": "a57a0fbc-1071-4d05-b5b6-82a558756aab",
   "metadata": {},
   "source": [
    "Create the emblaze widget and display it."
   ]
  },
  {
   "cell_type": "code",
   "execution_count": 32,
   "id": "c2142bdb-aa0a-444e-8204-13946c7ee44f",
   "metadata": {},
   "outputs": [],
   "source": [
    "w = emblaze.Viewer(embeddings = variants, thumbnails = thumbnails)"
   ]
  },
  {
   "cell_type": "code",
   "execution_count": 33,
   "id": "c2750e5d-4da9-4f5c-bf54-bc02deaea046",
   "metadata": {},
   "outputs": [
    {
     "data": {
      "application/vnd.jupyter.widget-view+json": {
       "model_id": "29e2420d604f4df9b0f0f74d52b97ccf",
       "version_major": 2,
       "version_minor": 0
      },
      "text/plain": [
       "Viewer(colorScheme='tableau', data={'data': [{'_format': 'compressed', '_idtype': 'u2', '_length': 900, 'ids':…"
      ]
     },
     "metadata": {},
     "output_type": "display_data"
    }
   ],
   "source": [
    "w"
   ]
  },
  {
   "cell_type": "markdown",
   "id": "c1883352-0038-49a8-b2bf-3a80ea53419f",
   "metadata": {},
   "source": [
    "Clean up the in-memory graphs."
   ]
  },
  {
   "cell_type": "code",
   "execution_count": 39,
   "id": "84ec139d-d77a-4b26-b9a4-22ee72a3550f",
   "metadata": {},
   "outputs": [],
   "source": [
    "G_connected_airports.drop()\n",
    "G_routes.drop()"
   ]
  }
 ],
 "metadata": {
  "kernelspec": {
   "display_name": "Python 3 (ipykernel)",
   "language": "python",
   "name": "python3"
  },
  "language_info": {
   "codemirror_mode": {
    "name": "ipython",
    "version": 3
   },
   "file_extension": ".py",
   "mimetype": "text/x-python",
   "name": "python",
   "nbconvert_exporter": "python",
   "pygments_lexer": "ipython3",
   "version": "3.8.13"
  }
 },
 "nbformat": 4,
 "nbformat_minor": 5
}
