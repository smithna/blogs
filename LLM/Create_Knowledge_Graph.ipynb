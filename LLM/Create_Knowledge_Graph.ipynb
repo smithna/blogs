{
 "cells": [
  {
   "cell_type": "code",
   "execution_count": 105,
   "id": "12ff608f-8da5-4cee-8a7b-e55224661068",
   "metadata": {},
   "outputs": [],
   "source": [
    "import requests\n",
    "import shutil\n",
    "from pathlib import Path\n",
    "import pandas as pd\n",
    "from neo4j import GraphDatabase\n",
    "import openai\n",
    "from getpass import getpass\n",
    "import re\n",
    "import time\n",
    "import random\n",
    "import backoff"
   ]
  },
  {
   "cell_type": "markdown",
   "id": "d35fdbe5-7238-45e6-91aa-fb69fb0a837c",
   "metadata": {},
   "source": [
    "# Set up connections"
   ]
  },
  {
   "cell_type": "code",
   "execution_count": 2,
   "id": "bf154abb-9c66-4711-9b63-73c9d1b668c9",
   "metadata": {},
   "outputs": [
    {
     "name": "stdin",
     "output_type": "stream",
     "text": [
      " ········\n"
     ]
    }
   ],
   "source": [
    "openai_key = getpass()"
   ]
  },
  {
   "cell_type": "code",
   "execution_count": 66,
   "id": "572a1356-c653-462a-aad4-6ea73fdea580",
   "metadata": {},
   "outputs": [
    {
     "name": "stdin",
     "output_type": "stream",
     "text": [
      " ········\n"
     ]
    }
   ],
   "source": [
    "neo4j_pwd = getpass()"
   ]
  },
  {
   "cell_type": "code",
   "execution_count": 3,
   "id": "6dfed40f-7c83-49cf-9281-bfd029baa1e0",
   "metadata": {},
   "outputs": [],
   "source": [
    "openai.api_key = openai_key"
   ]
  },
  {
   "cell_type": "code",
   "execution_count": 67,
   "id": "95cbe3f4-d900-4c5b-b2b2-68c32f8e62dd",
   "metadata": {},
   "outputs": [],
   "source": [
    "bolt_uri = \"neo4j+s://0932859c.databases.neo4j.io\"\n",
    "driver = GraphDatabase.driver(bolt_uri, auth=(\"neo4j\", neo4j_pwd))"
   ]
  },
  {
   "cell_type": "markdown",
   "id": "70c53d1a-db94-49f5-b8b3-772ce3f55fdb",
   "metadata": {},
   "source": [
    "# Download data from UCI archive"
   ]
  },
  {
   "cell_type": "code",
   "execution_count": 4,
   "id": "72dc3bdc-3738-42ff-a34c-fd5c0811d1c7",
   "metadata": {},
   "outputs": [],
   "source": [
    "response = requests.get(\"https://archive.ics.uci.edu/static/public/450/sports+articles+for+objectivity+analysis.zip\", stream=True)\n",
    "with open(\"sports_articles.zip\",'wb') as output:\n",
    "    output.write(response.content)  "
   ]
  },
  {
   "cell_type": "code",
   "execution_count": 5,
   "id": "edf0d2d5-1053-4e51-83f3-2c3f422d0911",
   "metadata": {},
   "outputs": [],
   "source": [
    "shutil.unpack_archive(\"sports_articles.zip\", \"sports_articles\")"
   ]
  },
  {
   "cell_type": "code",
   "execution_count": 6,
   "id": "a014f195-4a60-43ba-98e6-7b4db6363939",
   "metadata": {},
   "outputs": [],
   "source": [
    "p = Path('./sports_articles/Raw data')"
   ]
  },
  {
   "cell_type": "code",
   "execution_count": 7,
   "id": "9218c8fb-0fa8-4ae3-aeac-4bf05fb88f22",
   "metadata": {},
   "outputs": [],
   "source": [
    "articles = []\n",
    "for d in p.iterdir():\n",
    "    file_name = d.name\n",
    "    try:\n",
    "        with open(d, \"rb\") as f:\n",
    "            text = f.read().decode(\"utf-8\")\n",
    "    except:\n",
    "        with open(d, \"rb\") as f:\n",
    "            text = f.read().decode(\"Windows-1252\")\n",
    "    articles.append({\"article\": file_name, \"text\": text})"
   ]
  },
  {
   "cell_type": "code",
   "execution_count": 8,
   "id": "81aa50be-5adf-4f2b-967f-adc0be1a6314",
   "metadata": {},
   "outputs": [],
   "source": [
    "articles_df = pd.DataFrame(articles)"
   ]
  },
  {
   "cell_type": "code",
   "execution_count": 9,
   "id": "f4998060-52d4-4848-aa98-176d19bfd8d5",
   "metadata": {},
   "outputs": [
    {
     "data": {
      "text/plain": [
       "(1000, 2)"
      ]
     },
     "execution_count": 9,
     "metadata": {},
     "output_type": "execute_result"
    }
   ],
   "source": [
    "articles_df.shape"
   ]
  },
  {
   "cell_type": "markdown",
   "id": "8ca68db7-17e0-4d81-b7ff-6fa9b3af5609",
   "metadata": {},
   "source": [
    "# Pick out a few examples for few shot learning\n",
    "I chose example with index 616 because it was short."
   ]
  },
  {
   "cell_type": "code",
   "execution_count": 10,
   "id": "55c3b4f0-a633-4b15-b1c1-dc63e42d24be",
   "metadata": {},
   "outputs": [],
   "source": [
    "examples_df = articles_df.iloc[:2,:]"
   ]
  },
  {
   "cell_type": "code",
   "execution_count": 11,
   "id": "e343c59c-a2ea-4655-a43b-c1f7219d4580",
   "metadata": {},
   "outputs": [],
   "source": [
    "examples_df = examples_df._append(articles_df.loc[616])"
   ]
  },
  {
   "cell_type": "code",
   "execution_count": 12,
   "id": "6e1126b1-2115-4fef-bd9e-801c321e3d53",
   "metadata": {},
   "outputs": [],
   "source": [
    "articles_df.drop([0, 1, 616], inplace=True)"
   ]
  },
  {
   "cell_type": "code",
   "execution_count": 13,
   "id": "16e24a7a-ab72-4625-bd67-a03d1e30139f",
   "metadata": {},
   "outputs": [],
   "source": [
    "examples_df['entities'] = \"\""
   ]
  },
  {
   "cell_type": "code",
   "execution_count": 14,
   "id": "ac6a12f2-0622-4627-8c05-ef1a40937976",
   "metadata": {},
   "outputs": [
    {
     "name": "stdout",
     "output_type": "stream",
     "text": [
      "With a world title and an Olympic silver medal of their own already, Meryl Davis and Charlie White were quite happy to share this latest accomplishment.\n",
      "  \t\n",
      "   \tDavis and White won their fifth consecutive ice dance crown at the US Figure Skating Championships on Saturday, matching a record held by four other couples. As the audience stood and cheered, Davis knelt close to the ice for several seconds, her head bowed.\n",
      "  \t''Being in such an elite group of American ice dancers from the past and seeing that we belong with them, it's special,'' White said. ''All the hard work and our families and their dedication, our support group — you need a lot of things to come together to make that happen, including staying healthy. There are a lot of little things. I'm proud of us for being able to stick with it, and our continuing love for the sport has helped a lot.\n",
      "  \t''I'm pleased and I couldn't be more proud.''\n",
      "  \tJudy Schwomeyer and James Sladky (1968-72); Judy Blumberg and Michael Seibert (1981-85); Naomi Lang and Peter Tchernyshev (1999-2003); and Tanith Belbin and Ben Agosto (2004-2008) also won five titles.\n",
      "  \tThe Olympic silver medalists and 2011 world champions had had such a big lead after the short dance they had to do little more but step on the ice to win. But they did so much more than that with their dramatic and powerful routine to ''Notre Dame de Paris,'' setting personal bests for both overall score (197.44 points) and free dance (118.42).\n",
      "  \tThey finished more than 20 points ahead — yes, you read that right — of Madison Chock and Evan Bates (175.91). Maia and Alex Shibutani were docked a point for an extended lift and finished third (174.21).\n",
      "  \tEarlier Saturday, Marissa Castelli and Simon Shnapir overcame a big mistake to win their first pairs title.\n",
      "  \t''Coming to the US Championships is a good time and there's always a positive energy,'' Davis said. ''It's such an honor to come here. I think being able to perform really well pushes us to put out a better performance, and we are honored to get the results that we did.''\n",
      "  \tFor generations, Americans weren't even an afterthought in ice dance. They were so far below the world powerhouses it's a good bet the Russians and British didn't even know their names.\n",
      "  \t\n",
      "   \tBut that has changed in the last 10 years, and Davis and White now set the standard in the sport. Their rivalry with Canada's Tessa Virtue and Scott Moir is the best thing going, with the training partners playing a game of ''Can you top this?'' Virtue and Moir edged the Americans at the Vancouver Olympics, as well as at the 2010 and 2012 world championships. The Americans won the world title in 2011, as well as the last four Grand Prix finals.\n",
      "  \tThough they have no peers in the United States, that doesn't mean they coast when they come to nationals.\n",
      "  \tFar from it.\n",
      "  \t''That energy only pushes us and makes us feel even more excited,'' Davis said.\n",
      "  \tTheir performance was spellbinding, so intense no one in the arena dared breathe. Every inch of the ice, every nuance of music was filled with intricate and elegant moves, one more difficult than the next. Their skating skills have always been superb, their edge quality so fine that coaches pop in DVDs of them to show their students.\n",
      "  \tBut it is the way they combine the athletic strengths with the beauty and elegance of a dance that makes them so breathtaking. They are a sporting event and a theater show rolled into one. Their lifts can barely be described they were so intricate and innovative. In one, White twirled Davis like a rifle and whipped her from his front to back all while skating and turning at full speed.\n",
      "  \t\n",
      "   \tThey oozed emotion, using the tips of their eyelashes all the way down to the toes of their feet to express the character of the dance, and the audience was as exhausted as Davis and White when they finished.\n",
      "  \tChock and Bates and the Shibutanis have the misfortune of trying to compete with that, and there was no way they could come close. At least, not now.\n",
      "  \tChock and Bates' lifts are filled with unique positions, and they were done with great speed and control. But it was the love story they displayed to ''Dr. Zhivago'' that was so delightful. Close your eyes, and you could almost see the horses and the sleigh in the falling snow.\n",
      "  \t''It's been such a great season,'' Chock said. ''We have been working very hard, and we hope to keep getting better and better from here.''\n",
      "  \tThe Shibutanis' routine to ''Memoirs of a Geisha'' was seamless, the elements flowing from one to the other so perfectly it was impossible to tell where one ended and the next began. The siblings opened with a pairs spin that was better than anything seen during the actual pairs competition earlier in the afternoon, and it lasted for what seemed like forever - no easy feat to maintain that speed and momentum.\n",
      "  \tTheir twizzles — traveling spins — are, simply, exquisite. They are done in perfect unison, right down to the raising of their arms while they spin. Their big flaw was that he held his sister too long on a lift, a mistake they also made in the short dance.\n"
     ]
    }
   ],
   "source": [
    "print(examples_df.loc[0, \"text\"])"
   ]
  },
  {
   "cell_type": "markdown",
   "id": "694688e3-6bcd-4112-9560-0169051ed58d",
   "metadata": {},
   "source": [
    "Create examples of the types of entities we want the model to find."
   ]
  },
  {
   "cell_type": "code",
   "execution_count": 15,
   "id": "fb90f9f3-e0dc-436f-8437-1e8945c59e88",
   "metadata": {},
   "outputs": [],
   "source": [
    "examples_df.loc[0, \"entities\"] = \"Sports:Ice dancing\\nTeams:\\nAthletes:Meryl Davis, Charlie, White, Judy Schwomeyer, James Sladky, Judy Blumberg, Michael Seibering, Namomi Lang, Peter Tchernyshev, Tanith Belbin, Ben Agosto, Madison Chock, Evan Bates, Maia Shibutani, Alex Shibutani, Marissa Castelli, Simon Shnapir, Tessa Virtue, Scott Moir\\nSporting events:US Figure Skating Championships, Vancourver Olympics, 2010 World Figure Skating Championships, 2012 World Figure Skating Championships, 2011 World Figure Skating Championships, Figure Skating Grand Prix\""
   ]
  },
  {
   "cell_type": "code",
   "execution_count": 16,
   "id": "4c47029f-7216-4f03-b77f-bcdb9f291155",
   "metadata": {},
   "outputs": [
    {
     "name": "stdout",
     "output_type": "stream",
     "text": [
      "The Croatia striker took advantage of a mistake from Christian Molinaro to put Bayern ahead in the 50th minute, intercepting the defender's back pass before rounding the goalkeeper.\n",
      "  \tThe visitors put the game beyond doubt in the 72nd when Mandzukic crossed for Thomas Mueller to finish off a counterattack in the 72nd. Mueller earlier had a goal ruled out for offside.\n",
      "  \t\n",
      "  \tBayern's 15th win from 19 games leaves it 11 points clear of Bayer Leverkusen, which was held to a 0-0 draw at Freiburg on Saturday. Defending champion Borussia Dortmund is third, a point further back.\n"
     ]
    }
   ],
   "source": [
    "print(examples_df.loc[1, \"text\"])"
   ]
  },
  {
   "cell_type": "code",
   "execution_count": 17,
   "id": "f38c17a3-8a28-495a-9812-51085ab82d73",
   "metadata": {},
   "outputs": [],
   "source": [
    "examples_df.loc[1, \"entities\"] = \"Sports:Soccer\\nTeams:Bayern, Bayer Leverkusen, Frieburg, Borussia Dortmund\\nAthletes:Christian Molinaro, Mario Mandzukic, Thomas Mueller\\nSporting events:\""
   ]
  },
  {
   "cell_type": "code",
   "execution_count": 18,
   "id": "a593a749-3383-46ea-bbbf-0f8bb0977799",
   "metadata": {},
   "outputs": [
    {
     "name": "stdout",
     "output_type": "stream",
     "text": [
      "Nico Rosberg led the way at the end of the first day of the second Formula One four-day test at the Circuit de Catalunya in Barcelona. The Mercedes driver posted a lap time of one minute 22.616 seconds, just 0.9 seconds slower than the pole time set by Lewis Hamilton in last year's Grand Prix.\n",
      "\n",
      "\n",
      "Lotus' Kimi Raikkonen finished just 0.007sec adrift, with Ferrari's Fernando Alonso a further third of a second behind.\n"
     ]
    }
   ],
   "source": [
    "print(examples_df.loc[616, \"text\"])"
   ]
  },
  {
   "cell_type": "code",
   "execution_count": 19,
   "id": "6eff3cd1-a407-4db9-825e-da27b0343677",
   "metadata": {},
   "outputs": [],
   "source": [
    "examples_df.loc[616, \"entities\"] = \"Sports:Formula One\\nTeams:Mercedes, Lotus, Ferrari\\nAthletes: Nico Rosberg, Lewis Hamilton, Kimi Raikkonen, Fernando Alonso\\nSporting events:Circuit de Catalunya in Barcelona, Grand Prix\""
   ]
  },
  {
   "cell_type": "markdown",
   "id": "39f7ac40-a141-4880-8cee-90bbada3d643",
   "metadata": {},
   "source": [
    "# See how long our articles are\n",
    "We might not have enough tokens to pass the examples and long articles, so we'll break up the long ones."
   ]
  },
  {
   "cell_type": "code",
   "execution_count": 20,
   "id": "e38e8c89-6cff-4428-843e-70d11640f25c",
   "metadata": {},
   "outputs": [],
   "source": [
    "articles_df['len'] = articles_df['text'].str.len()"
   ]
  },
  {
   "cell_type": "code",
   "execution_count": 21,
   "id": "34244818-648b-4f67-95fc-394ce668deb5",
   "metadata": {},
   "outputs": [
    {
     "data": {
      "text/html": [
       "<div>\n",
       "<style scoped>\n",
       "    .dataframe tbody tr th:only-of-type {\n",
       "        vertical-align: middle;\n",
       "    }\n",
       "\n",
       "    .dataframe tbody tr th {\n",
       "        vertical-align: top;\n",
       "    }\n",
       "\n",
       "    .dataframe thead th {\n",
       "        text-align: right;\n",
       "    }\n",
       "</style>\n",
       "<table border=\"1\" class=\"dataframe\">\n",
       "  <thead>\n",
       "    <tr style=\"text-align: right;\">\n",
       "      <th></th>\n",
       "      <th>len</th>\n",
       "    </tr>\n",
       "  </thead>\n",
       "  <tbody>\n",
       "    <tr>\n",
       "      <th>count</th>\n",
       "      <td>997.000000</td>\n",
       "    </tr>\n",
       "    <tr>\n",
       "      <th>mean</th>\n",
       "      <td>3972.991976</td>\n",
       "    </tr>\n",
       "    <tr>\n",
       "      <th>std</th>\n",
       "      <td>2741.899479</td>\n",
       "    </tr>\n",
       "    <tr>\n",
       "      <th>min</th>\n",
       "      <td>224.000000</td>\n",
       "    </tr>\n",
       "    <tr>\n",
       "      <th>25%</th>\n",
       "      <td>1860.000000</td>\n",
       "    </tr>\n",
       "    <tr>\n",
       "      <th>50%</th>\n",
       "      <td>3671.000000</td>\n",
       "    </tr>\n",
       "    <tr>\n",
       "      <th>75%</th>\n",
       "      <td>5270.000000</td>\n",
       "    </tr>\n",
       "    <tr>\n",
       "      <th>max</th>\n",
       "      <td>22373.000000</td>\n",
       "    </tr>\n",
       "  </tbody>\n",
       "</table>\n",
       "</div>"
      ],
      "text/plain": [
       "                len\n",
       "count    997.000000\n",
       "mean    3972.991976\n",
       "std     2741.899479\n",
       "min      224.000000\n",
       "25%     1860.000000\n",
       "50%     3671.000000\n",
       "75%     5270.000000\n",
       "max    22373.000000"
      ]
     },
     "execution_count": 21,
     "metadata": {},
     "output_type": "execute_result"
    }
   ],
   "source": [
    "articles_df.describe()"
   ]
  },
  {
   "cell_type": "markdown",
   "id": "9180a7f9-3ef2-4124-8564-f9f8f4fe4fc6",
   "metadata": {},
   "source": [
    "# Send articles to openai to get entities."
   ]
  },
  {
   "cell_type": "code",
   "execution_count": null,
   "id": "5ce1064f-7ef8-45ec-a7b8-c2e92f97ed2b",
   "metadata": {},
   "outputs": [],
   "source": [
    "result = response.json()\n",
    "if ‘choices’ in result:\n",
    "address = result[‘choices’][0][‘message’][‘content’]\n",
    "return address\n",
    "else:\n",
    "retries += 1\n",
    "print(f\"Request failed. Retrying ({retries}/{max_retries})…\")\n",
    "time.sleep(2 ** retries) # Exponential backoff delay"
   ]
  },
  {
   "cell_type": "code",
   "execution_count": 126,
   "id": "7df70397-8d16-461b-b2f6-f5d044d938bc",
   "metadata": {},
   "outputs": [],
   "source": [
    "ents_pattern = re.compile(\"Sports\\:(.*)\\nTeams\\:(.*)\\nAthletes\\:(.*)\\nSporting events\\:(.*)\", re.DOTALL)\n",
    "\n",
    "@backoff.on_exception(backoff.expo, \n",
    "                      (openai.error.RateLimitError, \n",
    "                       openai.error.ServiceUnavailableError,\n",
    "                       openai.error.APIError),\n",
    "                     raise_on_giveup=False)\n",
    "def get_entities(article):\n",
    "    article_segments = [article[k:k+6000] for k in range(0, len(article), 6000)]\n",
    "    sports, teams, athletes, events = [], [], [], []\n",
    "    for segment in article_segments:\n",
    "        messages = [\n",
    "            {\"role\": \"system\", \"content\": \"You extract entities in the following format:\\nSports:<comma delimited list of strings>\\nTeams:<comma delimited list of strings>\\nAthletes:<comma delimited list of strings>\\nSporting events:<comma delimited list of strings>\"},\n",
    "            {\"role\": \"user\", \"content\": examples_df.iloc[0, 1]},\n",
    "            {\"role\": \"assistant\", \"content\": examples_df.iloc[0,2]},\n",
    "            {\"role\": \"user\", \"content\": examples_df.iloc[1, 1]},\n",
    "            {\"role\": \"assistant\", \"content\": examples_df.iloc[1,2]},\n",
    "            {\"role\": \"user\", \"content\": examples_df.iloc[2,1]},\n",
    "            {\"role\": \"assistant\", \"content\": examples_df.iloc[2,2]},\n",
    "            {\"role\": \"user\", \"content\": segment}]\n",
    "        retries = 0\n",
    "        response = openai.ChatCompletion.create(\n",
    "            model=\"gpt-3.5-turbo\",\n",
    "            messages=messages\n",
    "            )\n",
    "        result_match = ents_pattern.match(response['choices'][0]['message']['content'])\n",
    "        if result_match:\n",
    "            sports = sports + result_match.group(1).split(\", \")\n",
    "            teams = teams + result_match.group(2).split(\", \")\n",
    "            athletes = athletes + result_match.group(3).split(\", \")\n",
    "            events = events + result_match.group(4).split(\", \")\n",
    "        else:\n",
    "            print(f\"Result didn't match regex. {response}\")\n",
    "    entities = pd.Series({\"sports\": sports, \"teams\": teams, \"athletes\": athletes, \"events\": events})\n",
    "    return entities"
   ]
  },
  {
   "cell_type": "markdown",
   "id": "a5472bc5-ced7-4682-822e-bfd0a022ff37",
   "metadata": {},
   "source": [
    "We ran into some time outs, so I did this in a few batches"
   ]
  },
  {
   "cell_type": "code",
   "execution_count": null,
   "id": "ce1ecb09-ddc1-45a8-bd1f-9bd19bdbdd45",
   "metadata": {
    "tags": []
   },
   "outputs": [
    {
     "name": "stdout",
     "output_type": "stream",
     "text": [
      "Processed 25 articles.\n",
      "Processed 50 articles.\n",
      "Result didn't match regex. {\n",
      "  \"id\": \"chatcmpl-7TUyjOXtI6SsvULEPC3znSYLaBdDo\",\n",
      "  \"object\": \"chat.completion\",\n",
      "  \"created\": 1687264949,\n",
      "  \"model\": \"gpt-3.5-turbo-0301\",\n",
      "  \"usage\": {\n",
      "    \"prompt_tokens\": 3126,\n",
      "    \"completion_tokens\": 469,\n",
      "    \"total_tokens\": 3595\n",
      "  },\n",
      "  \"choices\": [\n",
      "    {\n",
      "      \"message\": {\n",
      "        \"role\": \"assistant\",\n",
      "        \"content\": \"valuating the game\\u2026): \\\"Just like any other loss, it's painful. You put a lot into it. It's not the fact that it was a loss that's more difficult it's just the way we lost. Some defensive breakdowns and some big shots by Knight and Bynum. And it wasn't just that last play... It got to that point where it came down to a possession here or there. We weren't able to make the big play tonight.\\n   (On the team's effort\\u2026): \\\"The guys again had a great spirit about us, fought. We didn't shoot the ball the way that we're accustomed to, other than JJ of course. But we fought. We changed the game in the second half, got to the free throw line.\\n   (On if it is the fault of the defense that the other guys cannot get going from the start..): \\\"Guys work hard to get shots, to get open looks and they missed. The looks that we did get, we missed. We were 9-for-20 at the rim in the first half, so there were opportunities without just relying on JJ. But he was hot and they kept feeding him.\\\"\\n   (On the play of Jameer Nelson\\u2026): \\\"I thought he did an excellent job tonight of getting us into our stuff and being aggressive when he had the chance to be aggressive. And besides scoring the ball, I thought he did an excellent job of getting us into our offenses.\\\" \\n   Magic Guard JJ Redick \\n   \\u201cIt\\u2019s frustrating that we allow this to happen over and over again, but we will continue to kill ourselves with mental mistakes.\\\"   \\n   \\u201cWe had chances to really put them away with six minutes and then again with four minutes. We had six or seven possessions to go up 10-12 points with four minutes left, and we just kept settling for jump shots or making mental mistakes. We have to get out of our own way at some point. We need to start winning or we will be out of the picture.\\u201d \\n   (On his career-high 31 points...) \\u201cIt was just one of those nights where I got into a rhythm and knocked down some 3s early,\\u201d Redick said. \\u201cIt\\u2019s just a shame because it\\u2019s wasted in a loss.\\u201d\"\n",
      "      },\n",
      "      \"finish_reason\": \"stop\",\n",
      "      \"index\": 0\n",
      "    }\n",
      "  ]\n",
      "}\n",
      "Processed 75 articles.\n",
      "Result didn't match regex. {\n",
      "  \"id\": \"chatcmpl-7TV0xi1OSlsqycuZZ5Xtd6izJUa10\",\n",
      "  \"object\": \"chat.completion\",\n",
      "  \"created\": 1687265087,\n",
      "  \"model\": \"gpt-3.5-turbo-0301\",\n",
      "  \"usage\": {\n",
      "    \"prompt_tokens\": 1725,\n",
      "    \"completion_tokens\": 30,\n",
      "    \"total_tokens\": 1755\n",
      "  },\n",
      "  \"choices\": [\n",
      "    {\n",
      "      \"message\": {\n",
      "        \"role\": \"assistant\",\n",
      "        \"content\": \"I'm sorry but there is no report mentioned to provide any answer to. Can you please provide more context or information so I can assist you better?\"\n",
      "      },\n",
      "      \"finish_reason\": \"stop\",\n",
      "      \"index\": 0\n",
      "    }\n",
      "  ]\n",
      "}\n",
      "Processed 100 articles.\n",
      "Processed 125 articles.\n",
      "Result didn't match regex. {\n",
      "  \"id\": \"chatcmpl-7TV3MXx2U57zHCaGMWolchvj2msCj\",\n",
      "  \"object\": \"chat.completion\",\n",
      "  \"created\": 1687265236,\n",
      "  \"model\": \"gpt-3.5-turbo-0301\",\n",
      "  \"usage\": {\n",
      "    \"prompt_tokens\": 3063,\n",
      "    \"completion_tokens\": 135,\n",
      "    \"total_tokens\": 3198\n",
      "  },\n",
      "  \"choices\": [\n",
      "    {\n",
      "      \"message\": {\n",
      "        \"role\": \"assistant\",\n",
      "        \"content\": \"even bolder), but it is a statement that is not without merit. Iniesta's ability to control games with such ease and to step up in big moments is unparalleled. While it is true that Zidane played with some great players, he also had a fairly volatile personality that led to numerous red cards. Iniesta, on the other hand, is a model of consistency and professionalism both on and off the field. It is also worth noting that Iniesta has been just as instrumental in Spain's international success as he has been for Barcelona's domestic and European domination. All in all, it is certainly not a stretch to argue that Iniesta is the better player.\"\n",
      "      },\n",
      "      \"finish_reason\": \"stop\",\n",
      "      \"index\": 0\n",
      "    }\n",
      "  ]\n",
      "}\n",
      "Processed 150 articles.\n",
      "Result didn't match regex. {\n",
      "  \"id\": \"chatcmpl-7TV5PKerGMOZM5Gvakm3G739zBLrP\",\n",
      "  \"object\": \"chat.completion\",\n",
      "  \"created\": 1687265363,\n",
      "  \"model\": \"gpt-3.5-turbo-0301\",\n",
      "  \"usage\": {\n",
      "    \"prompt_tokens\": 1739,\n",
      "    \"completion_tokens\": 23,\n",
      "    \"total_tokens\": 1762\n",
      "  },\n",
      "  \"choices\": [\n",
      "    {\n",
      "      \"message\": {\n",
      "        \"role\": \"assistant\",\n",
      "        \"content\": \"There is not enough context to definitively extract entities from this sentence. Can you please provide additional context or information?\"\n",
      "      },\n",
      "      \"finish_reason\": \"stop\",\n",
      "      \"index\": 0\n",
      "    }\n",
      "  ]\n",
      "}\n",
      "Processed 175 articles.\n",
      "Result didn't match regex. {\n",
      "  \"id\": \"chatcmpl-7TV5r0wLjpxjgTXnyaP2jXQfXyo4p\",\n",
      "  \"object\": \"chat.completion\",\n",
      "  \"created\": 1687265391,\n",
      "  \"model\": \"gpt-3.5-turbo-0301\",\n",
      "  \"usage\": {\n",
      "    \"prompt_tokens\": 3003,\n",
      "    \"completion_tokens\": 185,\n",
      "    \"total_tokens\": 3188\n",
      "  },\n",
      "  \"choices\": [\n",
      "    {\n",
      "      \"message\": {\n",
      "        \"role\": \"assistant\",\n",
      "        \"content\": \"hat he has to make the most of every opportunity and never take his success for granted.\\r\\n\\r\\n\\u201cI\\u2019ve been fortunate to play 13 years and to be in it for 12 years,\\u201d Brady said. \\u201cI love it more now than I ever have, and I am always trying to get better and always trying to find ways to improve myself and my game. It\\u2019s just something I take a lot of pride in, my commitment to the team. I\\u2019ll do whatever it takes to try to help us win.\\u201d\\r\\n\\r\\nAt this point in his career, Brady has nothing left to prove. He is a three-time Super Bowl champion, two-time NFL MVP, and the holder of numerous passing records. But he still approaches every game with the same intensity and drive as if it were his first. And for that, he has earned the respect of fans and players alike, even those who can't stand the sight of him.\"\n",
      "      },\n",
      "      \"finish_reason\": \"stop\",\n",
      "      \"index\": 0\n",
      "    }\n",
      "  ]\n",
      "}\n",
      "Processed 200 articles.\n",
      "Result didn't match regex. {\n",
      "  \"id\": \"chatcmpl-7TV7obbAFP2pecfvVpjQ8lNWU5tTa\",\n",
      "  \"object\": \"chat.completion\",\n",
      "  \"created\": 1687265512,\n",
      "  \"model\": \"gpt-3.5-turbo-0301\",\n",
      "  \"usage\": {\n",
      "    \"prompt_tokens\": 1767,\n",
      "    \"completion_tokens\": 4,\n",
      "    \"total_tokens\": 1771\n",
      "  },\n",
      "  \"choices\": [\n",
      "    {\n",
      "      \"message\": {\n",
      "        \"role\": \"assistant\",\n",
      "        \"content\": \"Sports: Not specified\"\n",
      "      },\n",
      "      \"finish_reason\": \"stop\",\n",
      "      \"index\": 0\n",
      "    }\n",
      "  ]\n",
      "}\n",
      "Processed 225 articles.\n",
      "Processed 250 articles.\n",
      "Processed 275 articles.\n",
      "Processed 300 articles.\n",
      "Result didn't match regex. {\n",
      "  \"id\": \"chatcmpl-7TVDwIPojneLHosOb03Wjx9m7iL08\",\n",
      "  \"object\": \"chat.completion\",\n",
      "  \"created\": 1687265892,\n",
      "  \"model\": \"gpt-3.5-turbo-0301\",\n",
      "  \"usage\": {\n",
      "    \"prompt_tokens\": 1725,\n",
      "    \"completion_tokens\": 26,\n",
      "    \"total_tokens\": 1751\n",
      "  },\n",
      "  \"choices\": [\n",
      "    {\n",
      "      \"message\": {\n",
      "        \"role\": \"assistant\",\n",
      "        \"content\": \"There is no specific piece of information given in your last message. Can you provide more details or ask a question related to sports?\"\n",
      "      },\n",
      "      \"finish_reason\": \"stop\",\n",
      "      \"index\": 0\n",
      "    }\n",
      "  ]\n",
      "}\n",
      "Processed 325 articles.\n"
     ]
    }
   ],
   "source": [
    "entities_df = pd.DataFrame(columns=[\"sports\", \"teams\", \"athletes\", \"events\"])\n",
    "\n",
    "for idx, row in articles_df.iterrows():\n",
    "    entities = get_entities(row['text'])\n",
    "    entities.name = idx\n",
    "    entities_df = entities_df._append(entities)\n",
    "    if entities_df.shape[0] % 25 == 0:\n",
    "        print(f\"Processed {entities_df.shape[0]} articles.\")"
   ]
  },
  {
   "cell_type": "markdown",
   "id": "69b0918f-d013-497d-a4f6-037791fa460c",
   "metadata": {},
   "source": [
    "# Send the entities to Neo4j"
   ]
  },
  {
   "cell_type": "code",
   "execution_count": 87,
   "id": "9a645f30-85ef-4909-95c9-ce00b60e004e",
   "metadata": {},
   "outputs": [],
   "source": [
    "output_df = articles_df.merge(entities_df, how=\"inner\", left_index=True, right_index=True)"
   ]
  },
  {
   "cell_type": "code",
   "execution_count": 88,
   "id": "cdcaa4bb-a157-41a8-a901-7bde930da49f",
   "metadata": {},
   "outputs": [],
   "source": [
    "def send_row_to_neo4j(row):\n",
    "    with driver.session() as session:\n",
    "        session.run(\"\"\"MERGE (a:Article {source: $article})\n",
    "                       ON CREATE SET a.text = $text\"\"\", \n",
    "                    {\"article\": row[\"article\"],\n",
    "                     \"text\": row[\"text\"]})\n",
    "        session.run(\"\"\"MATCH (a:Article {source: $article})\n",
    "                       UNWIND $sports as sport\n",
    "                       MERGE (s:Sport {name: toUpper(trim(sport))})\n",
    "                       MERGE (a)-[:REFERENCES_SPORT]->(s)\"\"\",\n",
    "                    {\"article\": row[\"article\"],\n",
    "                     \"sports\": row[\"sports\"]})\n",
    "        session.run(\"\"\"MATCH (a:Article {source: $article})\n",
    "                       UNWIND $athletes as athlete\n",
    "                       MERGE (t:Athlete {name: toUpper(trim(athlete))})\n",
    "                       MERGE (a)-[:REFERENCES_ATHLETE]->(t)\"\"\",\n",
    "                    {\"article\": row[\"article\"],\n",
    "                     \"athletes\": row[\"athletes\"]})\n",
    "        session.run(\"\"\"MATCH (a:Article {source: $article})\n",
    "                       UNWIND $events as event\n",
    "                       MERGE (e:Event {name: toUpper(trim(event))})\n",
    "                       MERGE (a)-[:REFERENCES_EVENT]->(e)\"\"\",\n",
    "                    {\"article\": row[\"article\"],\n",
    "                     \"events\": row[\"events\"]})\n",
    "                                                                                  "
   ]
  },
  {
   "cell_type": "code",
   "execution_count": 90,
   "id": "9978d971-711d-46b4-95e5-96684007a193",
   "metadata": {},
   "outputs": [],
   "source": [
    "_ = output_df.apply(send_row_to_neo4j, axis=1)"
   ]
  },
  {
   "cell_type": "markdown",
   "id": "f37b7f99-e68a-407b-a4c9-be277b5deaf9",
   "metadata": {},
   "source": [
    "# Look at results"
   ]
  },
  {
   "cell_type": "code",
   "execution_count": 91,
   "id": "ff6621f9-0cde-47ba-a38d-5dd8f1fdefbc",
   "metadata": {},
   "outputs": [
    {
     "data": {
      "text/html": [
       "<div>\n",
       "<style scoped>\n",
       "    .dataframe tbody tr th:only-of-type {\n",
       "        vertical-align: middle;\n",
       "    }\n",
       "\n",
       "    .dataframe tbody tr th {\n",
       "        vertical-align: top;\n",
       "    }\n",
       "\n",
       "    .dataframe thead th {\n",
       "        text-align: right;\n",
       "    }\n",
       "</style>\n",
       "<table border=\"1\" class=\"dataframe\">\n",
       "  <thead>\n",
       "    <tr style=\"text-align: right;\">\n",
       "      <th></th>\n",
       "      <th>labels</th>\n",
       "      <th>nodeCount</th>\n",
       "    </tr>\n",
       "  </thead>\n",
       "  <tbody>\n",
       "    <tr>\n",
       "      <th>0</th>\n",
       "      <td>[Sport]</td>\n",
       "      <td>69</td>\n",
       "    </tr>\n",
       "    <tr>\n",
       "      <th>1</th>\n",
       "      <td>[Athlete]</td>\n",
       "      <td>1476</td>\n",
       "    </tr>\n",
       "    <tr>\n",
       "      <th>2</th>\n",
       "      <td>[Event]</td>\n",
       "      <td>532</td>\n",
       "    </tr>\n",
       "    <tr>\n",
       "      <th>3</th>\n",
       "      <td>[Article]</td>\n",
       "      <td>302</td>\n",
       "    </tr>\n",
       "  </tbody>\n",
       "</table>\n",
       "</div>"
      ],
      "text/plain": [
       "      labels  nodeCount\n",
       "0    [Sport]         69\n",
       "1  [Athlete]       1476\n",
       "2    [Event]        532\n",
       "3  [Article]        302"
      ]
     },
     "execution_count": 91,
     "metadata": {},
     "output_type": "execute_result"
    }
   ],
   "source": [
    "with driver.session() as session:\n",
    "    result = session.run(\"\"\"MATCH (n) RETURN labels(n) as labels, count(*) as nodeCount\"\"\")\n",
    "    result_df = pd.DataFrame([row.data() for row in result])\n",
    "result_df"
   ]
  },
  {
   "cell_type": "code",
   "execution_count": 93,
   "id": "e41f4795-6329-42de-92e7-2ddbaf793c0f",
   "metadata": {},
   "outputs": [
    {
     "data": {
      "text/html": [
       "<div>\n",
       "<style scoped>\n",
       "    .dataframe tbody tr th:only-of-type {\n",
       "        vertical-align: middle;\n",
       "    }\n",
       "\n",
       "    .dataframe tbody tr th {\n",
       "        vertical-align: top;\n",
       "    }\n",
       "\n",
       "    .dataframe thead th {\n",
       "        text-align: right;\n",
       "    }\n",
       "</style>\n",
       "<table border=\"1\" class=\"dataframe\">\n",
       "  <thead>\n",
       "    <tr style=\"text-align: right;\">\n",
       "      <th></th>\n",
       "      <th>sport</th>\n",
       "      <th>articleCount</th>\n",
       "    </tr>\n",
       "  </thead>\n",
       "  <tbody>\n",
       "    <tr>\n",
       "      <th>0</th>\n",
       "      <td>BASKETBALL</td>\n",
       "      <td>73</td>\n",
       "    </tr>\n",
       "    <tr>\n",
       "      <th>1</th>\n",
       "      <td>SOCCER</td>\n",
       "      <td>68</td>\n",
       "    </tr>\n",
       "    <tr>\n",
       "      <th>2</th>\n",
       "      <td>FOOTBALL</td>\n",
       "      <td>25</td>\n",
       "    </tr>\n",
       "    <tr>\n",
       "      <th>3</th>\n",
       "      <td>TENNIS</td>\n",
       "      <td>22</td>\n",
       "    </tr>\n",
       "    <tr>\n",
       "      <th>4</th>\n",
       "      <td>BASEBALL</td>\n",
       "      <td>15</td>\n",
       "    </tr>\n",
       "    <tr>\n",
       "      <th>5</th>\n",
       "      <td>NASCAR</td>\n",
       "      <td>11</td>\n",
       "    </tr>\n",
       "    <tr>\n",
       "      <th>6</th>\n",
       "      <td>GOLF</td>\n",
       "      <td>11</td>\n",
       "    </tr>\n",
       "    <tr>\n",
       "      <th>7</th>\n",
       "      <td>NFL</td>\n",
       "      <td>9</td>\n",
       "    </tr>\n",
       "    <tr>\n",
       "      <th>8</th>\n",
       "      <td>HOCKEY</td>\n",
       "      <td>8</td>\n",
       "    </tr>\n",
       "    <tr>\n",
       "      <th>9</th>\n",
       "      <td>FOOTBALL (NFL)</td>\n",
       "      <td>7</td>\n",
       "    </tr>\n",
       "  </tbody>\n",
       "</table>\n",
       "</div>"
      ],
      "text/plain": [
       "            sport  articleCount\n",
       "0      BASKETBALL            73\n",
       "1          SOCCER            68\n",
       "2        FOOTBALL            25\n",
       "3          TENNIS            22\n",
       "4        BASEBALL            15\n",
       "5          NASCAR            11\n",
       "6            GOLF            11\n",
       "7             NFL             9\n",
       "8          HOCKEY             8\n",
       "9  FOOTBALL (NFL)             7"
      ]
     },
     "execution_count": 93,
     "metadata": {},
     "output_type": "execute_result"
    }
   ],
   "source": [
    "with driver.session() as session:\n",
    "    result = session.run(\"\"\"MATCH (s:Sport) \n",
    "                            RETURN s.name as sport, \n",
    "                            COUNT{ (s)<-[:REFERENCES_SPORT]-() } AS articleCount\n",
    "                            ORDER BY articleCount DESC\n",
    "                            LIMIT 10\"\"\")\n",
    "    result_df = pd.DataFrame([row.data() for row in result])\n",
    "result_df"
   ]
  },
  {
   "cell_type": "code",
   "execution_count": 95,
   "id": "b291d360-32f8-45df-babc-159ab30bc532",
   "metadata": {},
   "outputs": [
    {
     "data": {
      "text/html": [
       "<div>\n",
       "<style scoped>\n",
       "    .dataframe tbody tr th:only-of-type {\n",
       "        vertical-align: middle;\n",
       "    }\n",
       "\n",
       "    .dataframe tbody tr th {\n",
       "        vertical-align: top;\n",
       "    }\n",
       "\n",
       "    .dataframe thead th {\n",
       "        text-align: right;\n",
       "    }\n",
       "</style>\n",
       "<table border=\"1\" class=\"dataframe\">\n",
       "  <thead>\n",
       "    <tr style=\"text-align: right;\">\n",
       "      <th></th>\n",
       "      <th>athlete</th>\n",
       "      <th>articleCount</th>\n",
       "    </tr>\n",
       "  </thead>\n",
       "  <tbody>\n",
       "    <tr>\n",
       "      <th>0</th>\n",
       "      <td>KOBE BRYANT</td>\n",
       "      <td>17</td>\n",
       "    </tr>\n",
       "    <tr>\n",
       "      <th>1</th>\n",
       "      <td></td>\n",
       "      <td>16</td>\n",
       "    </tr>\n",
       "    <tr>\n",
       "      <th>2</th>\n",
       "      <td>LEBRON JAMES</td>\n",
       "      <td>15</td>\n",
       "    </tr>\n",
       "    <tr>\n",
       "      <th>3</th>\n",
       "      <td>TIGER WOODS</td>\n",
       "      <td>9</td>\n",
       "    </tr>\n",
       "    <tr>\n",
       "      <th>4</th>\n",
       "      <td>DWYANE WADE</td>\n",
       "      <td>9</td>\n",
       "    </tr>\n",
       "    <tr>\n",
       "      <th>5</th>\n",
       "      <td>CARMELO ANTHONY</td>\n",
       "      <td>7</td>\n",
       "    </tr>\n",
       "    <tr>\n",
       "      <th>6</th>\n",
       "      <td>SERENA WILLIAMS</td>\n",
       "      <td>7</td>\n",
       "    </tr>\n",
       "    <tr>\n",
       "      <th>7</th>\n",
       "      <td>DWIGHT HOWARD</td>\n",
       "      <td>7</td>\n",
       "    </tr>\n",
       "    <tr>\n",
       "      <th>8</th>\n",
       "      <td>ANDY MURRAY</td>\n",
       "      <td>7</td>\n",
       "    </tr>\n",
       "    <tr>\n",
       "      <th>9</th>\n",
       "      <td>NOVAK DJOKOVIC</td>\n",
       "      <td>7</td>\n",
       "    </tr>\n",
       "  </tbody>\n",
       "</table>\n",
       "</div>"
      ],
      "text/plain": [
       "           athlete  articleCount\n",
       "0      KOBE BRYANT            17\n",
       "1                             16\n",
       "2     LEBRON JAMES            15\n",
       "3      TIGER WOODS             9\n",
       "4      DWYANE WADE             9\n",
       "5  CARMELO ANTHONY             7\n",
       "6  SERENA WILLIAMS             7\n",
       "7    DWIGHT HOWARD             7\n",
       "8      ANDY MURRAY             7\n",
       "9   NOVAK DJOKOVIC             7"
      ]
     },
     "execution_count": 95,
     "metadata": {},
     "output_type": "execute_result"
    }
   ],
   "source": [
    "with driver.session() as session:\n",
    "    result = session.run(\"\"\"MATCH (a:Athlete) \n",
    "                            RETURN a.name as athlete, \n",
    "                            COUNT{ (a)<-[:REFERENCES_ATHLETE]-() } AS articleCount\n",
    "                            ORDER BY articleCount DESC\n",
    "                            LIMIT 10\"\"\")\n",
    "    result_df = pd.DataFrame([row.data() for row in result])\n",
    "result_df"
   ]
  },
  {
   "cell_type": "code",
   "execution_count": 99,
   "id": "beda3fa3-5f61-4954-90c2-027db51bbfb3",
   "metadata": {},
   "outputs": [
    {
     "data": {
      "text/html": [
       "<div>\n",
       "<style scoped>\n",
       "    .dataframe tbody tr th:only-of-type {\n",
       "        vertical-align: middle;\n",
       "    }\n",
       "\n",
       "    .dataframe tbody tr th {\n",
       "        vertical-align: top;\n",
       "    }\n",
       "\n",
       "    .dataframe thead th {\n",
       "        text-align: right;\n",
       "    }\n",
       "</style>\n",
       "<table border=\"1\" class=\"dataframe\">\n",
       "  <thead>\n",
       "    <tr style=\"text-align: right;\">\n",
       "      <th></th>\n",
       "      <th>mentionedWithKobe</th>\n",
       "      <th>articleCount</th>\n",
       "    </tr>\n",
       "  </thead>\n",
       "  <tbody>\n",
       "    <tr>\n",
       "      <th>0</th>\n",
       "      <td>LEBRON JAMES</td>\n",
       "      <td>10</td>\n",
       "    </tr>\n",
       "    <tr>\n",
       "      <th>1</th>\n",
       "      <td>DWIGHT HOWARD</td>\n",
       "      <td>6</td>\n",
       "    </tr>\n",
       "    <tr>\n",
       "      <th>2</th>\n",
       "      <td>CARMELO ANTHONY</td>\n",
       "      <td>5</td>\n",
       "    </tr>\n",
       "    <tr>\n",
       "      <th>3</th>\n",
       "      <td>STEVE NASH</td>\n",
       "      <td>5</td>\n",
       "    </tr>\n",
       "    <tr>\n",
       "      <th>4</th>\n",
       "      <td>DWYANE WADE</td>\n",
       "      <td>4</td>\n",
       "    </tr>\n",
       "    <tr>\n",
       "      <th>5</th>\n",
       "      <td>PAU GASOL</td>\n",
       "      <td>4</td>\n",
       "    </tr>\n",
       "    <tr>\n",
       "      <th>6</th>\n",
       "      <td>RAY ALLEN</td>\n",
       "      <td>3</td>\n",
       "    </tr>\n",
       "    <tr>\n",
       "      <th>7</th>\n",
       "      <td>MICHAEL JORDAN</td>\n",
       "      <td>3</td>\n",
       "    </tr>\n",
       "    <tr>\n",
       "      <th>8</th>\n",
       "      <td>KEVIN DURANT</td>\n",
       "      <td>3</td>\n",
       "    </tr>\n",
       "    <tr>\n",
       "      <th>9</th>\n",
       "      <td>RAJON RONDO</td>\n",
       "      <td>2</td>\n",
       "    </tr>\n",
       "  </tbody>\n",
       "</table>\n",
       "</div>"
      ],
      "text/plain": [
       "  mentionedWithKobe  articleCount\n",
       "0      LEBRON JAMES            10\n",
       "1     DWIGHT HOWARD             6\n",
       "2   CARMELO ANTHONY             5\n",
       "3        STEVE NASH             5\n",
       "4       DWYANE WADE             4\n",
       "5         PAU GASOL             4\n",
       "6         RAY ALLEN             3\n",
       "7    MICHAEL JORDAN             3\n",
       "8      KEVIN DURANT             3\n",
       "9       RAJON RONDO             2"
      ]
     },
     "execution_count": 99,
     "metadata": {},
     "output_type": "execute_result"
    }
   ],
   "source": [
    "with driver.session() as session:\n",
    "    result = session.run(\"\"\"MATCH (a:Athlete {name:\"KOBE BRYANT\"})-[:REFERENCES_ATHLETE]-(art)\n",
    "                            MATCH (art)-[:REFERENCES_ATHLETE]->(n)\n",
    "                            WHERE n <> a\n",
    "                            RETURN n.name AS mentionedWithKobe, count(*) as articleCount\n",
    "                            ORDER BY articleCount DESC\n",
    "                            LIMIT 10\"\"\")\n",
    "    result_df = pd.DataFrame([row.data() for row in result])\n",
    "result_df"
   ]
  },
  {
   "cell_type": "code",
   "execution_count": null,
   "id": "32f40314-efb9-4973-bc9d-226514c75b60",
   "metadata": {},
   "outputs": [],
   "source": []
  }
 ],
 "metadata": {
  "kernelspec": {
   "display_name": "ISED",
   "language": "python",
   "name": "ised"
  },
  "language_info": {
   "codemirror_mode": {
    "name": "ipython",
    "version": 3
   },
   "file_extension": ".py",
   "mimetype": "text/x-python",
   "name": "python",
   "nbconvert_exporter": "python",
   "pygments_lexer": "ipython3",
   "version": "3.10.11"
  }
 },
 "nbformat": 4,
 "nbformat_minor": 5
}
